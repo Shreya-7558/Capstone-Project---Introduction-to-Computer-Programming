{
  "nbformat": 4,
  "nbformat_minor": 0,
  "metadata": {
    "colab": {
      "provenance": [],
      "include_colab_link": true
    },
    "kernelspec": {
      "name": "python3",
      "display_name": "Python 3"
    },
    "language_info": {
      "name": "python"
    }
  },
  "cells": [
    {
      "cell_type": "markdown",
      "metadata": {
        "id": "view-in-github",
        "colab_type": "text"
      },
      "source": [
        "<a href=\"https://colab.research.google.com/github/Shreya-7558/Capstone-Project---Introduction-to-Computer-Programming/blob/main/Capstone_Project_Introduction_to_Computer_Programming.ipynb\" target=\"_parent\"><img src=\"https://colab.research.google.com/assets/colab-badge.svg\" alt=\"Open In Colab\"/></a>"
      ]
    },
    {
      "cell_type": "markdown",
      "source": [
        "# **Guidelines**\n"
      ],
      "metadata": {
        "id": "HlOAX_1v1ko1"
      }
    },
    {
      "cell_type": "markdown",
      "source": [
        "\n",
        "**1. About the Project:**\n",
        "\n",
        "The Introduction to Computer Programming project is designed to evaluate your understanding and practical application of fundamental programming concepts using Python. This assessment encompasses various topics, including data types, indexing, slicing, operators, in-built functions, statements, conditionals, loops, object-oriented programming, and exception handling. In addition, you will showcase your ability to create custom functions and tackle advanced looping concepts.\n",
        "\n",
        "**2. Skills Required:**\n",
        "\n",
        "  To successfully complete this project assessment, you should possess the following skills and knowledge:\n",
        "- Proficiency in Python programming language\n",
        "- Understanding of data types, indexing, and slicing in Python\n",
        "- Familiarity with operators, in-built functions, and methods\n",
        "- Ability to work with statements, indentation, and conditionals\n",
        "- Competence in implementing loops and iterations, including conditional and infinite looping\n",
        "- Mastery of creating and utilizing custom functions in Python\n",
        "- Knowledge of advanced looping concepts\n",
        "- Understanding of object-oriented programming (OOPs) principles in Python\n",
        "- Ability to handle exceptions in your code\n",
        "\n",
        "**3. Deliverables:**\n",
        "\n",
        "You are required to submit the following items for evaluation:\n",
        "- Completed Python coding solutions for the given questions (coding assessment)\n",
        "- Collab link containing your Python code for each question\n",
        "- Video explanation for any five coding questions (demonstrating your understanding and approach)\n",
        "\n",
        "**4. Rubrics:**\n",
        "\n",
        "Your project assessment will be evaluated based on the following rubrics:\n",
        "\n",
        "**a. Coding Assessment:**\n",
        "\n",
        "- Correctness of the code solution\n",
        "- Efficient use of coding constructs\n",
        "- Clear and well-structured code organization\n",
        "\n",
        "**b. Collab Link:**\n",
        "\n",
        "- Submission of Python code through the provided Collab link\n",
        "- Proper organization of code files and resources\n",
        "\n",
        "**c. Video Explanation:**\n",
        "\n",
        "- Clear articulation of solution approach\n",
        "- Coverage of important concepts and logic\n",
        "- Coherent and well-structured explanation\n",
        "\n",
        "Please use these pointers as the basis for evaluating each section of the project assessment."
      ],
      "metadata": {
        "id": "rATVcbDa2pY_"
      }
    },
    {
      "cell_type": "markdown",
      "source": [
        "# **CodeStorm Challenge: Solving and Explaining Complex Coding Problems**\n",
        "\n"
      ],
      "metadata": {
        "id": "KLPQdGNGvXFL"
      }
    },
    {
      "cell_type": "markdown",
      "source": [
        "**Problem Statement:**\n",
        "\n",
        "The CodeStorm Challenge is an intense coding competition designed to test participants' programming skills, problem-solving abilities, and communication prowess. In this challenge, participants will be required to solve a total of 30 intricate coding questions that cover a wide range of algorithms, data structures, and programming paradigms. Additionally, participants are tasked with creating an explanatory video that delves into the solutions of any five chosen questions.\n",
        "\n",
        "The challenge aims to evaluate participants on their coding efficiency, algorithmic thinking, and presentation skills. Participants will need to not only implement correct and optimized solutions to the coding problems but also effectively communicate their thought processes and strategies in the form of a video presentation.\n",
        "\n",
        "**Key Objectives:**\n",
        "\n",
        "* Coding Proficiency: Participants must demonstrate their ability to write clean, efficient, and bug-free code to solve complex programming challenges within a time-constrained environment.\n",
        "\n",
        "* Problem Solving: The challenge will encompass a variety of problem domains, including dynamic programming, graph algorithms, string manipulation, and more. Participants should showcase their prowess in breaking down problems, designing algorithms, and translating solutions into code.\n",
        "\n",
        "* Communication Skills: In addition to coding skills, participants need to exhibit strong communication skills by creating a comprehensive video explaining the thought process, approach, and solution to five selected problems. Clarity, conciseness, and coherence in the video are essential.\n",
        "\n",
        "* Time Management: Participants will need to efficiently manage their time throughout the challenge, allocating sufficient time to solve each question and ensuring they have ample time to create high-quality explanatory videos.\n",
        "\n",
        "* Adaptability: As the challenge encompasses a diverse set of coding problems, participants must be adaptable in applying different algorithms and techniques to solve problems that may vary in difficulty and complexity.\n",
        "\n",
        "**Note:**\n",
        "\n",
        "1. Solve 30 coding problems out of the different problem statements given here.\n",
        "2. Create a video explaining any 5 questions and include the video link before submitting."
      ],
      "metadata": {
        "id": "OBDIMXqy26TD"
      }
    },
    {
      "cell_type": "markdown",
      "source": [
        "GitHub Link -"
      ],
      "metadata": {
        "id": "eIfpnUDSe8Sv"
      }
    },
    {
      "cell_type": "markdown",
      "source": [],
      "metadata": {
        "id": "2N7wVdIyfC7I"
      }
    },
    {
      "cell_type": "code",
      "source": [],
      "metadata": {
        "id": "97lyNCZhe-Pe"
      },
      "execution_count": null,
      "outputs": []
    },
    {
      "cell_type": "markdown",
      "source": [
        "# **Introduction to Python Programming**"
      ],
      "metadata": {
        "id": "XIj_QdatBQTt"
      }
    },
    {
      "cell_type": "markdown",
      "source": [
        "## Score Board Operator\n",
        "An operator working behind the scoreboard of a inter cohort AlmaBetter cricket tournament, is responsible for updating the scores and points of each team. However, the operator is currently facing a challenge. He has been tasked with updating the total number of points gained by Team London, but he does not possess the necessary programming skills to complete this task.\n",
        "According to the tournament's rules, teams are awarded the following points based on the outcome of a match:\n",
        "\n",
        "* wins: 3 points\n",
        "* draws: 1 point\n",
        "* losses: 0 points\n",
        "\n",
        "\n",
        "\n",
        "\n",
        "Team London has played **8 matches** in this tournament. They won **4 matches**, lost **3 matches** and **drew 1**.\n",
        "The operator is in need of assistance to calculate the total number of points earned by Team London. As a python expert adept with knowledge of integer, floats and boolean, you can help the operator by writing a solution for the following problem.\n",
        "\n",
        "What would your approach be?"
      ],
      "metadata": {
        "id": "dCSH8MhBRTW7"
      }
    },
    {
      "cell_type": "code",
      "source": [
        "#1. Define your fixed values:\n",
        "wins= 3\n",
        "draws= 1\n",
        "losses= 0"
      ],
      "metadata": {
        "id": "v8z41_rUgsJE"
      },
      "execution_count": null,
      "outputs": []
    },
    {
      "cell_type": "code",
      "source": [
        "#2. Calculate the total points gained by Team London\n",
        "total_point=((4*wins)+(3*losses)+(1*draws))"
      ],
      "metadata": {
        "id": "-kG6LhhJgsJl"
      },
      "execution_count": null,
      "outputs": []
    },
    {
      "cell_type": "code",
      "source": [
        "# 3. Print the variable london_points\n",
        "print(\"the total London points is\",total_point)\n"
      ],
      "metadata": {
        "id": "J8i6jnwngsJm",
        "outputId": "c8454286-63aa-4064-b732-e09b6abb099a",
        "colab": {
          "base_uri": "https://localhost:8080/"
        }
      },
      "execution_count": null,
      "outputs": [
        {
          "output_type": "stream",
          "name": "stdout",
          "text": [
            "the total London points is 13\n"
          ]
        }
      ]
    },
    {
      "cell_type": "markdown",
      "source": [
        "## Nutrition bar ingredient chart\n",
        "\n",
        "Imagine you are a data analyst at a nutrition bar manufacturing company. Your department head approaches you with a question. The company produces a nutrition bar that contains **45g of raisins, 65g of almonds, and 30g of apricots**. The head of the manufacturing department wants you to create an ingredient percentage list for the nutrition bar using python.\n",
        "\n",
        "Equipped with the knowledge of int, float and booleans in python, how would you approach this situation?"
      ],
      "metadata": {
        "id": "qEICqapxUkVB"
      }
    },
    {
      "cell_type": "code",
      "metadata": {
        "id": "XJ9Rq4P3Del7",
        "outputId": "dbc578e4-3386-49a0-8d0a-993f77c0890f",
        "colab": {
          "base_uri": "https://localhost:8080/"
        }
      },
      "source": [
        "# Calculate the percentage of raisins and print the variable\n",
        "raisins= 45\n",
        "almonds= 65\n",
        "apricots=30\n",
        "\n",
        "total_nutri=(raisins+almonds+apricots)\n",
        "per_raisins=(raisins*100)/total_nutri\n",
        "print(per_raisins)\n"
      ],
      "execution_count": null,
      "outputs": [
        {
          "output_type": "stream",
          "name": "stdout",
          "text": [
            "32.142857142857146\n"
          ]
        }
      ]
    },
    {
      "cell_type": "code",
      "metadata": {
        "id": "S6lJZtaXDel9",
        "outputId": "25ad240d-13fc-4e82-dc24-8c6e0ed604e1",
        "colab": {
          "base_uri": "https://localhost:8080/"
        }
      },
      "source": [
        "# Calculate the percentage of almonds and print the variable\n",
        "\n",
        "per_almonds=(almonds*100)/total_nutri\n",
        "print(per_almonds)"
      ],
      "execution_count": null,
      "outputs": [
        {
          "output_type": "stream",
          "name": "stdout",
          "text": [
            "46.42857142857143\n"
          ]
        }
      ]
    },
    {
      "cell_type": "code",
      "metadata": {
        "id": "mHzMnSZrDemB",
        "outputId": "cfb17f7f-55e8-4c84-c370-aeb4293319e8",
        "colab": {
          "base_uri": "https://localhost:8080/"
        }
      },
      "source": [
        "# Calculate the percentage of apricots and print the variable\n",
        "\n",
        "per_apricots=(apricots*100)/total_nutri\n",
        "print(per_apricots)"
      ],
      "execution_count": null,
      "outputs": [
        {
          "output_type": "stream",
          "name": "stdout",
          "text": [
            "21.428571428571427\n"
          ]
        }
      ]
    },
    {
      "cell_type": "markdown",
      "source": [
        "## Measuring the Accuracy of a Disease Detection Model- Optional\n",
        "\n",
        "If you're not impressed with these usecases yet, understand that you're just getting started with python. Going forward as a data scientist, you'll be using what you've learned to design machine learning models that just might even save lives!!\n",
        "\n",
        "Let's say you have created a machine learning model to detect diseases in patients based on their symptoms and medical history. The model has been tested on a dataset of **100 patients**, including **30 with diabetes**, **45 with heart disease**, and **25 with cancer**.\n",
        "The model's performance was evaluated in three rounds.\n",
        "In the first round, the model correctly **detected diabetes in 25 out of the 30 patients** with the disease.\n",
        "In the second round, the model correctly detected **heart disease in 35 out of the 45 patients** with the disease.\n",
        "In the final round, the model correctly **detected cancer in 20 out of the 25 patients** with the disease.\n",
        "\n",
        "The model's accuracy is defined as the percentage of correctly detected cases out of the total number of patient\n",
        "\n",
        "Assess how accurate your model is across these 3 diseases.\n"
      ],
      "metadata": {
        "id": "9Y3kSoUHVOGj"
      }
    },
    {
      "cell_type": "code",
      "metadata": {
        "id": "OfXY9LcVDemF"
      },
      "source": [
        "# Store the number of heart disease patients\n",
        "heart_disease= 45\n",
        "\n",
        "# Store the number of diabetes patients\n",
        "diabetes=30\n",
        "\n",
        "# Store the number of cancer patients\n",
        "cancer=25\n",
        "\n",
        "# Store the number of your correct guesses of heart disease patients\n",
        "corr_guess_hd=(heart_disease-10)\n",
        "\n",
        "# Store the number of your correct guesses of diabetes patients\n",
        "corr_guess_dib=(diabetes-5)\n",
        "\n",
        "# Store the number of your correct guesses of cancer patients\n",
        "corr_guess_cancer=(cancer-5)"
      ],
      "execution_count": null,
      "outputs": []
    },
    {
      "cell_type": "markdown",
      "metadata": {
        "id": "Eg_Or6GmDemI"
      },
      "source": [
        "#### Calculate your accuracy in each of the three cases"
      ]
    },
    {
      "cell_type": "code",
      "metadata": {
        "id": "QUbDKOR3DemJ",
        "outputId": "ed2736a3-028c-463f-b633-4eff5d80d08e",
        "colab": {
          "base_uri": "https://localhost:8080/"
        }
      },
      "source": [
        "# Print the heart disease detection accuracy\n",
        "print(\"the heart disease detection\",corr_guess_hd)\n"
      ],
      "execution_count": null,
      "outputs": [
        {
          "output_type": "stream",
          "name": "stdout",
          "text": [
            "the heart disease detection 35\n"
          ]
        }
      ]
    },
    {
      "cell_type": "code",
      "metadata": {
        "id": "PfX4DowhDemM",
        "outputId": "a44a40dd-2d6a-4b8f-915a-5ca8e2cf5e8d",
        "colab": {
          "base_uri": "https://localhost:8080/"
        }
      },
      "source": [
        "# Print the diabetes detection accuracy\n",
        "print(\"the diabetes detection \",corr_guess_dib)\n"
      ],
      "execution_count": null,
      "outputs": [
        {
          "output_type": "stream",
          "name": "stdout",
          "text": [
            "the diabetes detection  25\n"
          ]
        }
      ]
    },
    {
      "cell_type": "code",
      "metadata": {
        "id": "ZV-hzGKCDemP",
        "outputId": "bc1c821c-6940-4729-e232-199ef4d0049b",
        "colab": {
          "base_uri": "https://localhost:8080/"
        }
      },
      "source": [
        "# Print the cancer detection accuracy\n",
        "print(\"the cancer detection accuracy\",corr_guess_cancer)\n"
      ],
      "execution_count": null,
      "outputs": [
        {
          "output_type": "stream",
          "name": "stdout",
          "text": [
            "the cancer detection accuracy 20\n"
          ]
        }
      ]
    },
    {
      "cell_type": "code",
      "metadata": {
        "id": "eP3JkusLDemT",
        "colab": {
          "base_uri": "https://localhost:8080/"
        },
        "outputId": "fa1e49a1-6edc-4881-c91f-9900d6fd5663"
      },
      "source": [
        "# Print the overall accuracy of your model\n",
        "total_corr_guess=(corr_guess_hd+corr_guess_dib+corr_guess_cancer)\n",
        "\n",
        "total_no_patients=(heart_disease + cancer + diabetes)\n",
        "\n",
        "overall_accuracy=(total_corr_guess*100)/total_no_patients\n",
        "print(\"the overall accuracy of the model\",overall_accuracy)\n"
      ],
      "execution_count": null,
      "outputs": [
        {
          "output_type": "stream",
          "name": "stdout",
          "text": [
            "the overall accuracy of the model 80.0\n"
          ]
        }
      ]
    },
    {
      "cell_type": "markdown",
      "source": [
        "# **Data Types in Python**"
      ],
      "metadata": {
        "id": "AzbS5w7QB28m"
      }
    },
    {
      "cell_type": "markdown",
      "source": [
        "## Solving Algebra the Cool Way 😎"
      ],
      "metadata": {
        "id": "yKTqVryFxgP1"
      }
    },
    {
      "cell_type": "markdown",
      "source": [
        "You must remember the algebraic equations and functions you came across during your school days. If you do, you also must remember how tedious it was to do solve them manually. 😫\n",
        "Consider a quadratic function:\n",
        "\n",
        "***f(x)=x^2+3x-4***\n",
        "\n",
        "Find the value of f(x) at x =3 , x=-2, and x=4\n",
        "\n",
        "Doing this manually like the old days would be a tedious job 😞. But now you have python at your disposal 🙂 !\n",
        "How would you approach this problem using what you have learned?\n"
      ],
      "metadata": {
        "id": "_qhDAZQsSvPv"
      }
    },
    {
      "cell_type": "code",
      "metadata": {
        "id": "4_HZwes5Delh",
        "colab": {
          "base_uri": "https://localhost:8080/"
        },
        "outputId": "e7983023-1602-4829-e530-4863590c11fe"
      },
      "source": [
        "# Calculate the value of the function f(x) at x = 3\n",
        "x=3\n",
        "func_evaluated_at_3 =(x**2+3*x-4)\n",
        "print(func_evaluated_at_3)"
      ],
      "execution_count": null,
      "outputs": [
        {
          "output_type": "stream",
          "name": "stdout",
          "text": [
            "14\n"
          ]
        }
      ]
    },
    {
      "cell_type": "code",
      "metadata": {
        "id": "uD4MAyKIDelo",
        "colab": {
          "base_uri": "https://localhost:8080/"
        },
        "outputId": "6d01afe7-503e-469c-ede2-e4bc57506d55"
      },
      "source": [
        "# Calculate the value of the function f(x) at x = -2\n",
        "x=-2\n",
        "func_evaluated_at_minus2 =(x**2+3*x-4)\n",
        "print(func_evaluated_at_minus2)"
      ],
      "execution_count": null,
      "outputs": [
        {
          "output_type": "stream",
          "name": "stdout",
          "text": [
            "-6\n"
          ]
        }
      ]
    },
    {
      "cell_type": "code",
      "metadata": {
        "id": "h8PgF85VDelu",
        "colab": {
          "base_uri": "https://localhost:8080/"
        },
        "outputId": "297994ea-85f6-42b6-8aee-5a8b9f63d785"
      },
      "source": [
        "# Calculate the value of the function f(x) at x = 4\n",
        "x=4\n",
        "func_evaluated_at_4 =(x**2+3*x-4)\n",
        "print(func_evaluated_at_4)"
      ],
      "execution_count": null,
      "outputs": [
        {
          "output_type": "stream",
          "name": "stdout",
          "text": [
            "24\n"
          ]
        }
      ]
    },
    {
      "cell_type": "code",
      "source": [
        "#Check if func_evaluated_at_3 >= func_evaluated_at_minus2\n",
        "if(func_evaluated_at_3 >= func_evaluated_at_minus2):\n",
        "  print(\"True\")"
      ],
      "metadata": {
        "id": "ESCji5FY9x61",
        "colab": {
          "base_uri": "https://localhost:8080/"
        },
        "outputId": "13c28ad0-fcdf-4305-8c5c-29f7db92023b"
      },
      "execution_count": null,
      "outputs": [
        {
          "output_type": "stream",
          "name": "stdout",
          "text": [
            "True\n"
          ]
        }
      ]
    },
    {
      "cell_type": "code",
      "source": [
        "#Check if value of f(x) at 3,-2 or 4 is equal to 0 or not\n",
        "\n",
        "if(func_evaluated_at_3, func_evaluated_at_minus2 or func_evaluated_at_4 ==0):\n",
        "  print(\"True\")\n",
        "else:\n",
        "  print(\"False\")\n"
      ],
      "metadata": {
        "id": "bZuIzWse94rT",
        "colab": {
          "base_uri": "https://localhost:8080/"
        },
        "outputId": "bfe3e526-7d38-4844-bc2f-4bbb2f919398"
      },
      "execution_count": null,
      "outputs": [
        {
          "output_type": "stream",
          "name": "stdout",
          "text": [
            "True\n"
          ]
        }
      ]
    },
    {
      "cell_type": "markdown",
      "source": [
        "## Finding total A's in the Bookshelves\n",
        "\n",
        "In your pursuit of expanding your knowledge of Python, you come across a bookstore in search of books on the subject.\n",
        "\n",
        "There, you meet a salesperson who is also a Python enthusiast!!\n",
        "\n",
        "The salesperson presents you with a challenge - they have a list of five books related to Python and if you can write a program that finds the count of letter 'e', the store will give you a free book of your choice. 😀\n",
        "\n",
        "Are you ready to accept the challenge? 💪"
      ],
      "metadata": {
        "id": "kyKx-MLZHsoh"
      }
    },
    {
      "cell_type": "code",
      "source": [
        "# Here's the list of books\n",
        "books = \"Python for Everyone, Learn Python the Hard Way, Python Crash Course , Starting Out with Python, Automate the Boring Stuff with Python\"\n"
      ],
      "metadata": {
        "id": "iImDmkOZXRRP"
      },
      "execution_count": null,
      "outputs": []
    },
    {
      "cell_type": "code",
      "source": [
        "# Store the count of books containing A/a in the title. Note this will be a case insensitive search\n",
        "a_counts =books.count(\"a\")\n",
        "\n",
        "A_counts= books.count(\"A\")\n",
        "\n",
        "books_lower=books.lower()\n",
        "\n",
        "total_a_counts=books_lower.count(\"a\")\n",
        "\n"
      ],
      "metadata": {
        "id": "-3HeaI3YXWQ1"
      },
      "execution_count": null,
      "outputs": []
    },
    {
      "cell_type": "code",
      "source": [
        "# Print the value\n",
        "print(f\"The total number of 'a's in the list of books is {total_a_counts}\")"
      ],
      "metadata": {
        "id": "KXUYgyjBXaCH",
        "colab": {
          "base_uri": "https://localhost:8080/"
        },
        "outputId": "9af699aa-ae2b-4cb7-e337-1b187992ea26"
      },
      "execution_count": null,
      "outputs": [
        {
          "output_type": "stream",
          "name": "stdout",
          "text": [
            "The total number of 'a's in the list of books is 7\n"
          ]
        }
      ]
    },
    {
      "cell_type": "markdown",
      "source": [
        "## Unleashing the Power of Mean in Exam Analysis"
      ],
      "metadata": {
        "id": "BUzHV9sfvemq"
      }
    },
    {
      "cell_type": "markdown",
      "source": [
        "When analyzing exam scores, teachers have the power to unlock valuable insights into their students' performance. By using the mean and median, they can get a clear picture of how the class is doing as a whole and identify areas where improvement is needed.\n",
        "\n",
        "The mean score is like a report card for the entire class, showing the average of all exam scores. It gives a good general idea of how the class is doing but can be influenced by a few students with extremely high or low scores.\n",
        "\n",
        "By analysing the mean, teachers can get a complete picture of the class performance and make informed decisions to improve the learning experience for their students. So go ahead and use these powerful tools to take your students' exam scores to the next level! 💪"
      ],
      "metadata": {
        "id": "JQOrvXKEwJgy"
      }
    },
    {
      "cell_type": "code",
      "source": [
        "# List of student marks\n",
        "\n",
        "marks = [67,87,75,46,89,97,68,98,87,88]\n",
        "total_student_marks=sum(marks)\n",
        "print(\"Sum of Marks : \",total_student_marks)\n",
        "\n",
        "len_student_marks=len(marks)\n",
        "print(\"len of Marks :\",len_student_marks)"
      ],
      "metadata": {
        "id": "qTEXZHBxwVP1",
        "colab": {
          "base_uri": "https://localhost:8080/"
        },
        "outputId": "ba5681fe-8c77-42ab-a605-d8ee3fcb6a44"
      },
      "execution_count": null,
      "outputs": [
        {
          "output_type": "stream",
          "name": "stdout",
          "text": [
            "Sum of Marks :  802\n",
            "len of Marks : 10\n"
          ]
        }
      ]
    },
    {
      "cell_type": "code",
      "source": [
        "# Calculate the mean of the marks. Use sum() and len() functions\n",
        "mean_marks =(total_student_marks/len_student_marks)"
      ],
      "metadata": {
        "id": "9BpBKVXFw4Mg"
      },
      "execution_count": null,
      "outputs": []
    },
    {
      "cell_type": "code",
      "source": [
        "print(\"the mean of the student marks : \",mean_marks)"
      ],
      "metadata": {
        "id": "XQ1cL8mCpfeS",
        "colab": {
          "base_uri": "https://localhost:8080/"
        },
        "outputId": "32a9de3d-0b53-4531-c81e-57349d8455a8"
      },
      "execution_count": null,
      "outputs": [
        {
          "output_type": "stream",
          "name": "stdout",
          "text": [
            "the mean of the student marks :  80.2\n"
          ]
        }
      ]
    },
    {
      "cell_type": "markdown",
      "source": [
        "\n",
        "## John's Fruit Stand Sales Mix-up\n",
        "\n",
        "You must remember from the previous lessons that dictionaries can be used to store values corresponding to a particular key. But how is this helpful to us?\n",
        "\n",
        "Let's look at this scenario:\n",
        "\n",
        "Jim owns a quaint little fruit stand that sells mangoes, bananas, apples, and pineapples. One day, with Jim being tied up, he tasked his son John to manage the shop for a day. Being new to the game, John recorded the sales data in an unconventional way. He wrote down the name of each fruit as many times as it was sold, creating a list like this:\n",
        "\n",
        "**['Mango','Mango','Mango','Pineapple','Pineapple','Pineapple','Apple','Mango','Banana','Apple','Banana','Apple','Pineapple','Apple','Apple','Pineapple','Pineapple']**\n",
        "🤦\n",
        "\n",
        "But, this method is not very efficient or easy to read.\n",
        "\n",
        "Forunately you were there at the shop to grab some apples yourselves, and you saw what John was doing.\n",
        "\n",
        "You can help him out to structure the data by using dictionaries. How?\n",
        "\n"
      ],
      "metadata": {
        "id": "iOZMEc3KtdsM"
      }
    },
    {
      "cell_type": "code",
      "execution_count": null,
      "metadata": {
        "id": "lqRlffflqcUg"
      },
      "outputs": [],
      "source": [
        "#Here's John's list:\n",
        "fruit_list=['Mango','Mango','Mango','Pineapple','Pineapple','Pineapple','Apple','Mango','Banana','Apple','Banana','Apple','Pineapple','Apple','Apple','Pineapple','Pineapple']"
      ]
    },
    {
      "cell_type": "code",
      "source": [
        "# Step 2: Create an empty dictionary which will contain the unique fruit names\n",
        "fruit_dict={}\n",
        "\n",
        "# Set the values for each key separately\n",
        "\n",
        "# First Key\n",
        "fruit_dict['Mango']=fruit_list.count('Mango')\n",
        "\n",
        "# Second Key\n",
        "fruit_dict['Pineapple']=fruit_list.count('Pineapple')\n",
        "\n",
        "# Third Key\n",
        "fruit_dict['Apple']=fruit_list.count('Apple')\n",
        "\n",
        "# Fourth Key\n",
        "fruit_dict['Banana']=fruit_list.count('Banana')"
      ],
      "metadata": {
        "id": "zP1dXujAD_GA"
      },
      "execution_count": null,
      "outputs": []
    },
    {
      "cell_type": "code",
      "source": [
        "print(fruit_dict)"
      ],
      "metadata": {
        "id": "oy02z7prygYo",
        "colab": {
          "base_uri": "https://localhost:8080/"
        },
        "outputId": "87ffa762-1ab2-4c08-d0d2-980997382026"
      },
      "execution_count": null,
      "outputs": [
        {
          "output_type": "stream",
          "name": "stdout",
          "text": [
            "{'Mango': 4, 'Pineapple': 6, 'Apple': 5, 'Banana': 2}\n"
          ]
        }
      ]
    },
    {
      "cell_type": "markdown",
      "source": [
        "# **Indexing & Slicing**"
      ],
      "metadata": {
        "id": "hw_eQmfUo8Ma"
      }
    },
    {
      "cell_type": "markdown",
      "source": [
        "## Imagine that you are a superhero movie buff and you're trying to create a list of the most iconic Marvel characters. You have compiled a list of some of the most popular characters, but you want to narrow it down to the top 6.\n",
        "\n",
        "Here's your list of characters:\n",
        "\n",
        "marvel_words = ['Avengers', 'X-Men', 'Spider-Man', 'Iron Man', 'Hulk', 'Thor', 'Black Widow', 'Captain America', 'Wolverine', 'Doctor Strange', 'Namor']\n"
      ],
      "metadata": {
        "id": "4xWhhMD7lFiO"
      }
    },
    {
      "cell_type": "code",
      "source": [
        "# Here's your list of characters:\n",
        "\n",
        "marvel_words = ['Avengers', 'X-Men', 'Spider-Man', 'Iron Man', 'Hulk', 'Thor', 'Black Widow', 'Captain America', 'Wolverine', 'Doctor Strange', 'Namor']"
      ],
      "metadata": {
        "id": "wecbawDhmHhv"
      },
      "execution_count": null,
      "outputs": []
    },
    {
      "cell_type": "markdown",
      "source": [
        "You want to narrow down the list to the last 6 characters in the list. These characters are:\n",
        "\n",
        "* Namor\n",
        "* Doctor Strange\n",
        "* Wolverine\n",
        "* Captain America\n",
        "* Black Widow\n",
        "* Thor\n",
        "\n",
        "\n",
        "\n"
      ],
      "metadata": {
        "id": "LCQe44-gwnxB"
      }
    },
    {
      "cell_type": "code",
      "source": [
        "new_marvel = marvel_words[-6:]\n"
      ],
      "metadata": {
        "id": "ygnH--szLq8g"
      },
      "execution_count": null,
      "outputs": []
    },
    {
      "cell_type": "markdown",
      "source": [
        "Write a code to slice these characters from the list"
      ],
      "metadata": {
        "id": "ixSrQmeVwwYD"
      }
    },
    {
      "cell_type": "code",
      "source": [
        "# Replace x with appropriate values\n",
        "new_marvel=marvel_words[x:]"
      ],
      "metadata": {
        "id": "GF31Mwo2wmM7"
      },
      "execution_count": null,
      "outputs": []
    },
    {
      "cell_type": "markdown",
      "source": [
        "## Create two teams of superheroes based on their index position: one team should consist of all the characters located at even index positions, while the other team should consist of all the characters located at odd index positions."
      ],
      "metadata": {
        "id": "ExOuQaMiYSs7"
      }
    },
    {
      "cell_type": "code",
      "source": [
        "#Add appropriate index and step size\n",
        "team1 = marvel_words[::2]  # Select characters at even index positions\n",
        "team2 = marvel_words[1::2]  # Select characters at odd index positions\n"
      ],
      "metadata": {
        "id": "FfV-JzekZBKd"
      },
      "execution_count": null,
      "outputs": []
    },
    {
      "cell_type": "markdown",
      "source": [
        "###3. Store the word 'Spider-Man' in a new variable, and slice the word 'Spider' from it."
      ],
      "metadata": {
        "id": "-mQM5JHjm_pS"
      }
    },
    {
      "cell_type": "code",
      "source": [
        "spider_man=marvel_words[2] # Add appropriate index number\n",
        "spidey_sliced=spider_man[0:6] # Add appropriate index number\n",
        "print(spidey_sliced)\n"
      ],
      "metadata": {
        "id": "3umcx5a5m3Fn",
        "colab": {
          "base_uri": "https://localhost:8080/"
        },
        "outputId": "e3db8098-7a6d-4427-c035-42a1dcbf0086"
      },
      "execution_count": null,
      "outputs": [
        {
          "output_type": "stream",
          "name": "stdout",
          "text": [
            "Spider\n"
          ]
        }
      ]
    },
    {
      "cell_type": "markdown",
      "source": [
        "###4. Store the word 'Iron-Man' in a variable and use reverse indexing to reverse it."
      ],
      "metadata": {
        "id": "K_QHunxknscj"
      }
    },
    {
      "cell_type": "code",
      "source": [
        "#Your code here\n",
        "iron_man=marvel_words[3]\n",
        "reversed_man=iron_man[::-1]\n",
        "print(reversed_man)"
      ],
      "metadata": {
        "id": "LK5c5ELwqpvW",
        "colab": {
          "base_uri": "https://localhost:8080/"
        },
        "outputId": "cf2c4b79-e346-49f0-a52f-828be5761810"
      },
      "execution_count": null,
      "outputs": [
        {
          "output_type": "stream",
          "name": "stdout",
          "text": [
            "naM norI\n"
          ]
        }
      ]
    },
    {
      "cell_type": "markdown",
      "source": [
        "# **Operators in Data Types**"
      ],
      "metadata": {
        "id": "AaQqED-gt1Ij"
      }
    },
    {
      "cell_type": "markdown",
      "source": [
        "\n",
        "## 🎉 Let's do some math!\n",
        "\n",
        "* 📐 First up, let's calculate the area of a square with sides that measure 5 cm. 🤔 How much space does this shape occupy?\n",
        "\n",
        "* 🔍 Next, let's find the volume of a cube with sides that measure 12 cm. 📏 How much room does this shape take up?\n",
        "\n",
        "* 🔢 Lastly, we'll find the quotient and remainder when we divide 10 by 4. 🧐 How many times does 4 fit into 10? What's left over?"
      ],
      "metadata": {
        "id": "HNOkGnOhYRdb"
      }
    },
    {
      "cell_type": "code",
      "source": [
        "sqr_side_len=5\n",
        "ar_square=sqr_side_len*sqr_side_len\n",
        "\n",
        "cube_side_len=12\n",
        "vol_cube=cube_side_len*cube_side_len*cube_side_len\n",
        "\n",
        "divident=10\n",
        "divisor=4\n",
        "quotient=(divident/divisor)\n",
        "remainder=divident*divisor\n",
        "\n",
        "print(\"The reminder is : \",remainder)\n",
        "print(\"The quetiont is : \",quotient)\n",
        "print(\"The volume of cube\",vol_cube)\n",
        "print(\"Area of square : \",ar_square)"
      ],
      "metadata": {
        "id": "JIBfHim7IrBG",
        "colab": {
          "base_uri": "https://localhost:8080/"
        },
        "outputId": "b176edcd-8f52-4b0c-cbfb-c23f7285617f"
      },
      "execution_count": null,
      "outputs": [
        {
          "output_type": "stream",
          "name": "stdout",
          "text": [
            "The reminder is :  40\n",
            "The quetiont is :  2.5\n",
            "The volume of cube 1728\n",
            "Area of square :  25\n"
          ]
        }
      ]
    },
    {
      "cell_type": "markdown",
      "source": [
        "## 📚 Let's practice some comparison operators! Here's a problem for you to solve:\n",
        "\n",
        "🍎 The first basket contains 12 apples, and the second basket contains 8 apples. Use comparison operators to answer the following questions:\n",
        "\n",
        "* Is the number of apples in the first basket greater than the number of apples in the second basket?\n",
        "\n",
        "* Is the number of apples in the second basket less than or equal to the number of apples in the first basket?\n",
        "* Is the number of apples in the first basket equal to the number of apples in the second basket?\n",
        "* Is the number of apples in the second basket not equal to the number of apples in the first basket?\n",
        "\n",
        "Use comparison operators (i.e. >, >=, <, <=, ==, !=) in your code to answer each question. Good luck! 🍎🍏"
      ],
      "metadata": {
        "id": "nAX2nLAZWpKI"
      }
    },
    {
      "cell_type": "code",
      "source": [
        "# Your code here\n",
        "basket1=12\n",
        "basket2=8\n",
        "# Is the number of apples in the first basket greater than the number of apples in the second basket?\n",
        "is_greater = basket1 > basket2\n",
        "\n",
        "# Is the number of apples in the second basket less than or equal to the number of apples in the first basket?\n",
        "is_less_or_equal = basket2 <= basket1\n",
        "\n",
        "# Is the number of apples in the first basket equal to the number of apples in the second basket?\n",
        "is_equal = basket1 == basket2\n",
        "\n",
        "# Is the number of apples in the second basket not equal to the number of apples in the first basket?\n",
        "is_not_equal = basket2 != basket1\n",
        "\n",
        "# Print the results\n",
        "print(f\"Is the number of apples in the first basket greater than the second basket? {is_greater}\")\n",
        "print(f\"Is the number of apples in the second basket less than or equal to the first basket? {is_less_or_equal}\")\n",
        "print(f\"Is the number of apples in the first basket equal to the second basket? {is_equal}\")\n",
        "print(f\"Is the number of apples in the second basket not equal to the first basket? {is_not_equal}\")"
      ],
      "metadata": {
        "id": "-TsVx5cdWpKI",
        "colab": {
          "base_uri": "https://localhost:8080/"
        },
        "outputId": "b30136b3-d6b1-4f92-bb81-41f350fae373"
      },
      "execution_count": null,
      "outputs": [
        {
          "output_type": "stream",
          "name": "stdout",
          "text": [
            "Is the number of apples in the first basket greater than the second basket? True\n",
            "Is the number of apples in the second basket less than or equal to the first basket? True\n",
            "Is the number of apples in the first basket equal to the second basket? False\n",
            "Is the number of apples in the second basket not equal to the first basket? True\n"
          ]
        }
      ]
    },
    {
      "cell_type": "markdown",
      "source": [
        "## 🌴 Are you ready for your trip to Goa? 🌊 You've got two bags with you, and you need to make sure they're light enough to board the flight. Let's use some logical operators to find out if you can make it on time!\n",
        "\n",
        "🧳 One of your bags weighs 15 kg, while the other one weighs only 5 kg. 💪 You know you can pack a lot more in the heavier bag, but you have to be careful not to go over the weight limit.\n",
        "\n",
        "👮‍♀️ The airline has a strict policy that both of your bags must weigh less than 13 kg each. Can you make it on the flight? Let's use logical operators to find out!"
      ],
      "metadata": {
        "id": "7_yNqud-j1TS"
      }
    },
    {
      "cell_type": "markdown",
      "source": [],
      "metadata": {
        "id": "WlrBwM7wirdW"
      }
    },
    {
      "cell_type": "markdown",
      "source": [],
      "metadata": {
        "id": "r6GALIwrirT5"
      }
    },
    {
      "cell_type": "code",
      "source": [
        "# Define the weight of your bags\n",
        "bag1_weight = 15\n",
        "bag2_weight = 5\n",
        "total_weight=bag1_weight + bag2_weight\n",
        "\n",
        "# Check if both bags weigh less than 13 kg\n",
        "if (bag1_weight<13 and bag2_weight<13):\n",
        "  print(\"you can go through\")\n",
        "else:\n",
        "  print(\"Sorry, You can not go through!\")"
      ],
      "metadata": {
        "id": "3S-wDvHbZYvx",
        "colab": {
          "base_uri": "https://localhost:8080/"
        },
        "outputId": "8a519395-25bf-4f91-d37f-6ca78976c2c9"
      },
      "execution_count": null,
      "outputs": [
        {
          "output_type": "stream",
          "name": "stdout",
          "text": [
            "Sorry, You can not go through!\n"
          ]
        }
      ]
    },
    {
      "cell_type": "markdown",
      "source": [
        "**OR**"
      ],
      "metadata": {
        "id": "DtX6Cv7EbVju"
      }
    },
    {
      "cell_type": "markdown",
      "source": [
        "🧳 Uh oh, it looks like we have a problem with our bags! But don't worry, the crew has offered a solution. 😊\n",
        "\n",
        "👨‍✈️ They've said that if at least one of our bags weighs less than 6 kg, we can still board the flight this time. 🛫\n",
        "\n",
        "🤔 Are we ready for the trip or not? Let's use some logical operators to find out!"
      ],
      "metadata": {
        "id": "bF2FQenhZZPq"
      }
    },
    {
      "cell_type": "code",
      "source": [
        "# Define the weight of your bags\n",
        "bag1_weight = 15\n",
        "bag2_weight = 5\n",
        "\n",
        "# Check if at least one bag weighs less than 6 kg\n",
        "if(bag1_weight<6 or bag2_weight<6):\n",
        "  print(\"Enjoy your trip!\")    # if the result is True, print(\"Enjoy your trip!\")\n",
        "else:\n",
        "  print(\"Sorry, You can not go through !\")  # Else, If the result is False, print(\"Sorry, You can not go through!\")\n",
        "\n",
        "\n"
      ],
      "metadata": {
        "id": "7ndd_Gw3bhIz",
        "colab": {
          "base_uri": "https://localhost:8080/"
        },
        "outputId": "925c9d4c-77cd-48e0-db17-0fe97248886d"
      },
      "execution_count": null,
      "outputs": [
        {
          "output_type": "stream",
          "name": "stdout",
          "text": [
            "Enjoy your trip!\n"
          ]
        }
      ]
    },
    {
      "cell_type": "markdown",
      "source": [
        "**OR**"
      ],
      "metadata": {
        "id": "ZLx7n7kMeIk_"
      }
    },
    {
      "cell_type": "markdown",
      "source": [
        "🤔 Did you notice how we made a decision on which print statement to use based on the result of our logical operators? 🤔\n",
        "\n",
        "🚀 Later on, we're going to learn how to do this in a single step, making it even easier for you. So stay curious 😎"
      ],
      "metadata": {
        "id": "vqQMQs4geeYm"
      }
    },
    {
      "cell_type": "markdown",
      "source": [
        "## 📚 Imagine that you're a book lover with a collection of lot of books. 🤓\n",
        "\n",
        "🔎 You need to find out how many of your books contain the word \"Python\" in them. 🐍"
      ],
      "metadata": {
        "id": "0yVUrg0NLnxz"
      }
    },
    {
      "cell_type": "code",
      "source": [
        "books = [\n",
        "    \"Python for Data Science Handbook by Jake VanderPlas\",\n",
        "    \"The Pragmatic Programmer by Andrew Hunt and David Thomas\",\n",
        "    \"Python Machine Learning by Sebastian Raschka\",\n",
        "    \"The Alchemist by Paulo Coelho\",\n",
        "]"
      ],
      "metadata": {
        "id": "HE7i9PDDjSLB"
      },
      "execution_count": null,
      "outputs": []
    },
    {
      "cell_type": "code",
      "source": [
        "count=0     # run this only once\n",
        "\n",
        "for book in books:\n",
        "\n",
        "  if \"Python\" in book:\n",
        "\n",
        "    count=count+1\n",
        "print(\"The number of python count in Books : \",count)           # Change x to 0,1,2 and 3.\n",
        "\n"
      ],
      "metadata": {
        "id": "tsmvcBHgjfPa",
        "colab": {
          "base_uri": "https://localhost:8080/"
        },
        "outputId": "573e9cd7-8878-4926-cf59-f973520eb96a"
      },
      "execution_count": null,
      "outputs": [
        {
          "output_type": "stream",
          "name": "stdout",
          "text": [
            "The number of python count in Books :  2\n"
          ]
        }
      ]
    },
    {
      "cell_type": "code",
      "source": [],
      "metadata": {
        "id": "azxYqoEAkbN6"
      },
      "execution_count": null,
      "outputs": []
    },
    {
      "cell_type": "code",
      "source": [
        "count=count+1\n",
        "print(count)"
      ],
      "metadata": {
        "id": "TBuLkYnNjsfS"
      },
      "execution_count": null,
      "outputs": []
    },
    {
      "cell_type": "markdown",
      "source": [
        "# **In-Built Functions & Methods**"
      ],
      "metadata": {
        "id": "B80a_pgbGRll"
      }
    },
    {
      "cell_type": "markdown",
      "source": [
        "## Here is a string for you to work with:"
      ],
      "metadata": {
        "id": "rg1rF2AJqlrU"
      }
    },
    {
      "cell_type": "code",
      "source": [
        "# Here is the statement.\n",
        "\n",
        "statement = \"anas eagerly recommended 'the shawshank redemption' to his friends. He described the movie as a captivating and emotional story of hope and friendship. His friends decided to watch it together the following weekend.\""
      ],
      "metadata": {
        "id": "x5DsgVU5pYep"
      },
      "execution_count": null,
      "outputs": []
    },
    {
      "cell_type": "code",
      "source": [
        "print(statement)"
      ],
      "metadata": {
        "colab": {
          "base_uri": "https://localhost:8080/"
        },
        "id": "0qMdyUT8Mgv4",
        "outputId": "3f20d41e-9043-4634-912f-b48b2fb47cdc"
      },
      "execution_count": null,
      "outputs": [
        {
          "output_type": "stream",
          "name": "stdout",
          "text": [
            "anas eagerly recommended 'the shawshank redemption' to his friends. He described the movie as a captivating and emotional story of hope and friendship. His friends decided to watch it together the following weekend.\n"
          ]
        }
      ]
    },
    {
      "cell_type": "markdown",
      "source": [
        "1. Create a list containing the three sentences in the statement.\n",
        "Hint: Use split() method."
      ],
      "metadata": {
        "id": "eWwJCSZcrGQr"
      }
    },
    {
      "cell_type": "code",
      "source": [
        "# Create a list containing the three sentences in the statement.\n",
        "\n",
        "sentence_list= statement.split('.')\n",
        "print(sentence_list)"
      ],
      "metadata": {
        "id": "cjAgMMBzqUPX",
        "colab": {
          "base_uri": "https://localhost:8080/"
        },
        "outputId": "51164afb-6947-41f4-9688-11b58e76c481"
      },
      "execution_count": null,
      "outputs": [
        {
          "output_type": "stream",
          "name": "stdout",
          "text": [
            "[\"anas eagerly recommended 'the shawshank redemption' to his friends\", ' He described the movie as a captivating and emotional story of hope and friendship', ' His friends decided to watch it together the following weekend', '']\n"
          ]
        }
      ]
    },
    {
      "cell_type": "markdown",
      "source": [
        "2. The name 'anas' is spelled wrong. Replace it with 'Anas'."
      ],
      "metadata": {
        "id": "lutxbv7crjLV"
      }
    },
    {
      "cell_type": "code",
      "source": [
        "# The name 'anas' is spelled wrong.\n",
        "# Replace it with 'Anas'.\n",
        "corrected_statement = statement.replace('anas', 'Anas')\n",
        "\n",
        "#Redefine the statement, with the correction.\n",
        "print(corrected_statement)\n"
      ],
      "metadata": {
        "id": "wihquZM3pptr",
        "colab": {
          "base_uri": "https://localhost:8080/"
        },
        "outputId": "dad8772b-4584-4614-9cdc-9169d018703b"
      },
      "execution_count": null,
      "outputs": [
        {
          "output_type": "stream",
          "name": "stdout",
          "text": [
            "Anas eagerly recommended 'the shawshank redemption' to his friends. He described the movie as a captivating and emotional story of hope and friendship. His friends decided to watch it together the following weekend.\n"
          ]
        }
      ]
    },
    {
      "cell_type": "markdown",
      "source": [
        "3. The title of the book is not written in the correct cases as well. Make corrections there."
      ],
      "metadata": {
        "id": "HaY-Pmgrr14E"
      }
    },
    {
      "cell_type": "code",
      "source": [
        "# Make corrections here.\n",
        "# The original statement\n",
        "statement = \"anas eagerly recommended 'the shawshank redemption' to his friends. He described the movie as a captivating and emotional story of hope and friendship. His friends decided to watch it together the following weekend.\"\n",
        "\n",
        "# Replace the incorrect book title with the corrected title\n",
        "corrected1_statement = statement.replace(\"the shawshank redemption\", \"The Shawshank Redemption\")\n",
        "\n",
        "# Print the corrected statement\n",
        "print(corrected1_statement)"
      ],
      "metadata": {
        "id": "qy50EVKesKoa",
        "colab": {
          "base_uri": "https://localhost:8080/"
        },
        "outputId": "84608dea-3031-4edc-a0ed-0200a10f8b7d"
      },
      "execution_count": null,
      "outputs": [
        {
          "output_type": "stream",
          "name": "stdout",
          "text": [
            "anas eagerly recommended 'The Shawshank Redemption' to his friends. He described the movie as a captivating and emotional story of hope and friendship. His friends decided to watch it together the following weekend.\n"
          ]
        }
      ]
    },
    {
      "cell_type": "markdown",
      "source": [
        "4. You believe \"The Shawshank Redemption\" would be bit too gloomy for the lot. Take user input of which movie to recommend and replace \"The Shawshank Redemption\" from the statement with the new recommendation."
      ],
      "metadata": {
        "id": "g7-df8O_sa8w"
      }
    },
    {
      "cell_type": "code",
      "source": [
        "# Change the recommendation of movie to one, of your choice.\n",
        "# Take input of movie\n",
        "\n",
        "new_movie=input(\"Which movie wold you recommend? \")\n",
        "\n",
        "# The original statement\n",
        "statement=\"Anas eagerly recommended 'The Shawshank Redemption' to his friends. He described the movie as a captivating and emotional story of hope and friendship. His friends decided to watch it together the following weekend.\"\n",
        "\n",
        "# Replace \"The Shawshank Redemption\" with the new movie recommendation\n",
        "corrected_statement = statement.replace(\"The Shawshank Redemption\", new_movie)\n",
        "\n",
        "# Print the corrected statement\n",
        "print(corrected_statement)\n",
        "print(statement)"
      ],
      "metadata": {
        "id": "FaoDdYues1sT",
        "colab": {
          "base_uri": "https://localhost:8080/"
        },
        "outputId": "0cb5a722-8e26-46d4-a783-ffbe409314d0"
      },
      "execution_count": null,
      "outputs": [
        {
          "output_type": "stream",
          "name": "stdout",
          "text": [
            "Which movie wold you recommend? Tiger\n",
            "Anas eagerly recommended 'Tiger' to his friends. He described the movie as a captivating and emotional story of hope and friendship. His friends decided to watch it together the following weekend.\n",
            "Anas eagerly recommended 'The Shawshank Redemption' to his friends. He described the movie as a captivating and emotional story of hope and friendship. His friends decided to watch it together the following weekend.\n"
          ]
        }
      ]
    },
    {
      "cell_type": "markdown",
      "source": [
        "## 🎥 Suppose you have a collection of your favorite movies 🍿🎞️ and you want to keep track of them using a Python list 📜. You start with an empty list [] and keep adding new movies 🆕 to it. You also want to be able to remove movies ❌ that you have watched or no longer wish to keep in your collection. Finally, you want to be able to count 🔢 how many movies you have in your collection and reverse the order of the list 🔄."
      ],
      "metadata": {
        "id": "qCn4QduqtXLg"
      }
    },
    {
      "cell_type": "code",
      "source": [
        "# Start with an empty list\n",
        "movie_collection = []\n",
        "\n",
        "# Add some movies to the collection using the append() method\n",
        "movie_collection.append(\"Movie 1\") # Use your favourite movie names\n",
        "movie_collection.append(\"Movie 2\")\n",
        "movie_collection.append(\"Movie 3\")\n",
        "movie_collection.append(\"Movie 4\")\n",
        "movie_collection.append(\"Movie 5\")\n",
        "\n",
        "# Print the current collection of movies\n",
        "print(\"My Movie Collection:\", movie_collection)\n",
        "\n",
        "# Remove a movie from the collection using the pop() method (remove index 3)\n",
        "movie_collection.pop(3)\n",
        "print(\"After removing movie 4:\", movie_collection)\n",
        "\n",
        "# Code to remove index 3 here\n",
        "print(\"After removing movie 4\", movie_collection)\n",
        "\n",
        "# Count how many movies are in the collection using the count() method\n",
        "num_movies =len(movie_collection)\n",
        "print(\"Number of movies:\", num_movies)\n",
        "\n",
        "# Reverse the order of the list using the reverse() method\n",
        "\n",
        "print(\"Reversed movie collection:\", movie_collection)\n"
      ],
      "metadata": {
        "id": "gHyiib9ptWpx",
        "colab": {
          "base_uri": "https://localhost:8080/"
        },
        "outputId": "1cbf66df-ae6c-483b-d29c-c78914e40eb9"
      },
      "execution_count": null,
      "outputs": [
        {
          "output_type": "stream",
          "name": "stdout",
          "text": [
            "My Movie Collection: ['Movie 1', 'Movie 2', 'Movie 3', 'Movie 4', 'Movie 5']\n",
            "After removing movie 4: ['Movie 1', 'Movie 2', 'Movie 3', 'Movie 5']\n",
            "After removing movie 4 ['Movie 1', 'Movie 2', 'Movie 3', 'Movie 5']\n",
            "Number of movies: 4\n",
            "Reversed movie collection: ['Movie 1', 'Movie 2', 'Movie 3', 'Movie 5']\n"
          ]
        }
      ]
    },
    {
      "cell_type": "markdown",
      "source": [
        "## 👩‍🏫 A teacher has stored the names of his students in a tuple as follows:\n",
        "('Adam','Alice','Ben','Bilal','Bharath')\n",
        "\n",
        "👨‍🎓 Their role numbers are defined as their index number + 1.\n",
        "\n",
        "🖥️ Write a program which would take the name of the student as input and return their role number."
      ],
      "metadata": {
        "id": "uEY4_vNcvEZj"
      }
    },
    {
      "cell_type": "code",
      "source": [
        "# Tuple containing the names of students\n",
        "student_tuple = ('Adam', 'Alice', 'Ben', 'Bilal', 'Bharath')\n",
        "\n",
        "# Take input from the user to enter a student's name\n",
        "student = input(\"Input the student name to get roll number: \")\n",
        "\n",
        "try:\n",
        "    # Find the index of the student's name in the tuple and add 1 to get the role number\n",
        "    role_number = student_tuple.index(student) + 1\n",
        "\n",
        "    # Print the student's name and role number\n",
        "    print(student, \"'s roll number is:\", role_number)\n",
        "except ValueError:\n",
        "    # Handle the case where the student's name is not found in the tuple\n",
        "    print(\"Student not found in the list.\")\n"
      ],
      "metadata": {
        "colab": {
          "base_uri": "https://localhost:8080/"
        },
        "id": "XPMNZkTnwRhb",
        "outputId": "eac40382-01bd-4fbf-a4c1-b8e309b6d3be"
      },
      "execution_count": null,
      "outputs": [
        {
          "output_type": "stream",
          "name": "stdout",
          "text": [
            "Input the student name to get roll number: alise\n",
            "Student not found in the list.\n"
          ]
        }
      ]
    },
    {
      "cell_type": "markdown",
      "source": [
        "## A store 🏪 sells different types of fruits 🍎🍌🍇🍓 in baskets 🧺. The storekeeper 🧑 keeps track of the availability of each fruit type in separate sets. The storekeeper wants to know which fruits are available in both baskets, which fruits are unique to each basket, and the total number of fruits available. 🤔"
      ],
      "metadata": {
        "id": "8fz0W273yMnA"
      }
    },
    {
      "cell_type": "code",
      "source": [
        "# Define sets for fruits in each basket\n",
        "basket1 = {'apple', 'banana', 'grape', 'orange'}\n",
        "basket2 = {'banana', 'mango', 'pineapple', 'orange'}\n",
        "\n",
        "# Find fruits available in both baskets (union of sets)\n",
        "both_baskets = basket1.union(basket2)\n",
        "\n",
        "# Find the total number of fruits available (size of the union)\n",
        "total_fruits = len(both_baskets)\n",
        "print(\"Total number of fruits available:\", total_fruits)\n",
        "\n",
        "# Find common fruits in both baskets (intersection of sets)\n",
        "common_fruits = basket1.intersection(basket2)\n",
        "print(\"Common fruits in both baskets:\", common_fruits)\n",
        "\n",
        "# Find fruits unique to each basket (difference of sets)\n",
        "unique_basket1 = basket1.difference(basket2)\n",
        "unique_basket2 = basket2.difference(basket1)\n",
        "\n",
        "print(\"Fruits unique to basket 1:\", unique_basket1)\n",
        "print(\"Fruits unique to basket 2:\", unique_basket2)\n",
        "\n",
        "\n"
      ],
      "metadata": {
        "id": "v8PqzLt52z15",
        "colab": {
          "base_uri": "https://localhost:8080/"
        },
        "outputId": "a379c518-4441-4f2b-b1aa-1e399e67508c"
      },
      "execution_count": null,
      "outputs": [
        {
          "output_type": "stream",
          "name": "stdout",
          "text": [
            "Total number of fruits available: 6\n",
            "Common fruits in both baskets: {'orange', 'banana'}\n",
            "Fruits unique to basket 1: {'grape', 'apple'}\n",
            "Fruits unique to basket 2: {'pineapple', 'mango'}\n"
          ]
        }
      ]
    },
    {
      "cell_type": "markdown",
      "source": [
        "# **Statements, Indentation & Conditionals**"
      ],
      "metadata": {
        "id": "gklgsrl6kIW8"
      }
    },
    {
      "cell_type": "markdown",
      "source": [
        "## 👉 Imagine that you are a food inspector who is responsible for inspecting the lead content of a packaged food material at a factory. If the content exceeds 5%, you should print the message \"This batch cannot be approved\".\n"
      ],
      "metadata": {
        "id": "ByhB8JrbeqQB"
      }
    },
    {
      "cell_type": "code",
      "source": [
        "# Get the lead content of the packaged food material\n",
        "lead_content = float(input(\"Please enter the lead content of the packaged food material in percentage: \"))\n",
        "\n",
        "# Check if the lead content exceeds 5%\n",
        "if lead_content > 5:\n",
        "    print(\"This batch cannot be approved\")\n"
      ],
      "metadata": {
        "id": "SZMMKSXteqQC",
        "colab": {
          "base_uri": "https://localhost:8080/"
        },
        "outputId": "5c241067-33d3-4fee-ee6e-acedc2ea16e9"
      },
      "execution_count": null,
      "outputs": [
        {
          "output_type": "stream",
          "name": "stdout",
          "text": [
            "Please enter the lead content of the packaged food material in percentage: 50\n",
            "This batch cannot be approved\n"
          ]
        }
      ]
    },
    {
      "cell_type": "markdown",
      "source": [
        "## 👉 Imagine: You're a bouncer at a nightclub and need to check if someone is old enough to enter. The legal age for entry is 18 years. If the person is less than 18 years print \"Sorry You can not enter!\"."
      ],
      "metadata": {
        "id": "AbgFO_SEeqQD"
      }
    },
    {
      "cell_type": "code",
      "source": [
        "age = int(input(\"enter the age\"))\n",
        "\n",
        "\n",
        "#Check the age of the guest\n",
        "if age < 18:\n",
        "    print(\"Sorry, you cannot enter!\")\n"
      ],
      "metadata": {
        "colab": {
          "base_uri": "https://localhost:8080/"
        },
        "outputId": "aa1ead57-9d2e-4561-d5b8-5b162a236236",
        "id": "0uZg98vneqQE"
      },
      "execution_count": null,
      "outputs": [
        {
          "output_type": "stream",
          "name": "stdout",
          "text": [
            "enter the age17\n",
            "Sorry, you cannot enter!\n"
          ]
        }
      ]
    },
    {
      "cell_type": "markdown",
      "source": [
        "## 👉 Imagine you are a fitness instructor who needs to evaluate if a client has reached their weight loss goal. The target weight loss goal is 10 pounds. If the client has lost at least 10 pounds, you should print the message \"Congratulations, you have reached your weight loss goal!\" However, if the client has lost less than 10 pounds, you should print \"Sorry, you have not reached your weight loss goal yet. Keep up the good work!\""
      ],
      "metadata": {
        "id": "fmzxpgNEo1Le"
      }
    },
    {
      "cell_type": "code",
      "source": [
        "# Get the client's weight loss\n",
        "client_weight_loss = float(input(\"Please enter the client's weight loss (in pounds): \"))\n",
        "\n",
        "# Check if the client reached their weight loss goal\n",
        "if client_weight_loss >= 10:\n",
        "    print(\"Congratulations, you have reached your weight loss goal!\")\n",
        "else:\n",
        "    print(\"Sorry, you have not reached your weight loss goal yet. Keep up the good work!\")\n"
      ],
      "metadata": {
        "id": "nDMEHColo5hu",
        "colab": {
          "base_uri": "https://localhost:8080/"
        },
        "outputId": "16d37eac-5d5f-48cd-9a61-ea478bf88a99"
      },
      "execution_count": null,
      "outputs": [
        {
          "output_type": "stream",
          "name": "stdout",
          "text": [
            "Please enter the client's weight loss (in pounds): 10\n",
            "Congratulations, you have reached your weight loss goal!\n"
          ]
        }
      ]
    },
    {
      "cell_type": "markdown",
      "source": [
        "##👉 Imagine: You're a gardener and need to check if a plant needs watering. If the soil moisture level is below 40%, print \"Water the plant!\", otherwise, print \"The plant doesn't need watering.\""
      ],
      "metadata": {
        "id": "eLOwny2bprgv"
      }
    },
    {
      "cell_type": "code",
      "source": [
        "# Take input of moisture level\n",
        "moisture_level = int(input(\"Enter moisture level \"))\n",
        "\n",
        "#Check if moisture level is satisfactory or not\n"
      ],
      "metadata": {
        "id": "8SAviqFOp1xX"
      },
      "execution_count": null,
      "outputs": []
    },
    {
      "cell_type": "markdown",
      "source": [
        "##📦📬🚚 Creating a shipping cost calculator! ⚙️\n",
        "\n",
        "You need to create a program that calculates the cost of shipping a package based on its weight and destination 📦💰\n",
        "\n",
        "🌍 Domestic shipping within the country :\n",
        "\n",
        "* Packages weighing up to 1 kg cost Rs.50 to ship 🤑\n",
        "Each additional kg costs Rs.10 extra 💰\n",
        "\n",
        "🌎 International shipping to other countries 🌏:\n",
        "\n",
        "* Packages weighing up to 1 kg cost Rs.500 to ship 🤑\n",
        "\n",
        "Each additional kg costs Rs.100 extra 💰\n",
        "Ready to ship? 🚛🚀"
      ],
      "metadata": {
        "id": "XA2dKqlxMVsH"
      }
    },
    {
      "cell_type": "markdown",
      "source": [
        "## 🚗 As a car dealership manager, you need to create a discount system for your customers based on the price of the car they want to buy. Here are the rules! 📝\n",
        "\n",
        "🚘 If the car price is less than Rs. 10,00,000, there is no discount.\n",
        "\n",
        "🎁 If the car price is between Rs. 10,00,000 and Rs. 20,00,000, there is a discount of 5%.\n",
        "\n",
        "🎉 If the car price is between Rs. 20,00,000 and Rs. 30,00,000, there is a discount of 7.5%.\n",
        "\n",
        "🥳 If the car price is greater than Rs. 30,00,000, there is a discount of 10%.\n",
        "\n",
        "Are you ready to make your customers happy with these discounts? 🚗💰"
      ],
      "metadata": {
        "id": "gLPLG7NaYofV"
      }
    },
    {
      "cell_type": "markdown",
      "source": [
        "# **Loops & Iterations**"
      ],
      "metadata": {
        "id": "9PNEVRVaIfLS"
      }
    },
    {
      "cell_type": "markdown",
      "source": [
        "## You and your friends are playing a board game where you roll a dice and move your game piece accordingly. However, you want to know the average number rolled by each player to see who's really the luckiest. Write a program that takes a list of rolls as input for each player and uses a for loop to calculate the average roll for each player. The winner gets bragging rights for being the luckiest!\n",
        "\n",
        "\n"
      ],
      "metadata": {
        "id": "QFad4dlHWjvx"
      }
    },
    {
      "cell_type": "code",
      "source": [
        "player_rolls = [\n",
        "    [3, 5, 6, 2, 1],  # player 1's rolls\n",
        "    [4, 4, 6, 3, 2],  # player 2's rolls\n",
        "    [1, 5, 6, 6, 4]   # player 3's rolls\n",
        "] # list of a list"
      ],
      "metadata": {
        "id": "3-X0wqWCzuna"
      },
      "execution_count": null,
      "outputs": []
    },
    {
      "cell_type": "code",
      "source": [
        "\n",
        "max_avg = 0\n",
        "max_index = -1  # Initialize to -1 to indicate no player with a valid average roll\n",
        "\n",
        "for index, rolls in enumerate(player_rolls):\n",
        "    # Calculate the average roll for the current player\n",
        "    average_roll = sum(rolls) / len(rolls)\n",
        "\n",
        "    # Check if the current player has a higher average roll than the current maximum\n",
        "    if average_roll > max_avg:\n",
        "        max_avg = average_roll\n",
        "        max_index = index\n",
        "\n",
        "    # Print the average roll for the current player\n",
        "    print(f\"Player {index + 1}'s Average Roll: {average_roll}\")\n",
        "\n",
        "# Check if there is a player with a valid average roll and announce the winner\n",
        "if max_index != -1:\n",
        "    print(f\"Player {max_index + 1} is the luckiest with an average roll of {max_avg}.\")\n",
        "else:\n",
        "    print(\"No valid average rolls found.\")\n",
        "\n"
      ],
      "metadata": {
        "id": "2Y9gP41ewxLM",
        "colab": {
          "base_uri": "https://localhost:8080/"
        },
        "outputId": "156b71d9-c1fc-4772-eeea-ac9888812d64"
      },
      "execution_count": null,
      "outputs": [
        {
          "output_type": "stream",
          "name": "stdout",
          "text": [
            "Player 1's Average Roll: 3.4\n",
            "Player 2's Average Roll: 3.8\n",
            "Player 3's Average Roll: 4.4\n",
            "Player 3 is the luckiest with an average roll of 4.4.\n"
          ]
        }
      ]
    },
    {
      "cell_type": "markdown",
      "source": [
        "**Instructions:**\n",
        "\n",
        "1. Define a list of rolls for each player, where each list contains the numbers rolled by the player.\n",
        "2. Use a for loop to iterate over each player's rolls in the list of player rolls.\n",
        "3. For each player, calculate the average roll by summing up all the rolls and dividing by the number of rolls. You can use the formula sum(rolls) / len(rolls) to do this.\n",
        "4. Print out each player's average roll using f-strings to display the player number and their average roll to two decimal places."
      ],
      "metadata": {
        "id": "y3BYcWJyzUVn"
      }
    },
    {
      "cell_type": "markdown",
      "source": [
        "## Write a Python program that analyzes a list of names and sorts them into two categories: those that start with a vowel and those that start with a consonant. To achieve this, you'll use a nested loop and some basic conditional statements."
      ],
      "metadata": {
        "id": "VB0b9bivcyKL"
      }
    },
    {
      "cell_type": "code",
      "source": [
        "names = [\"Alice\", \"Bob\", \"Eve\", \"Charlie\", \"Ivy\", \"David\", \"Olivia\", \"Peter\"]\n",
        "# List of rolls for each player\n",
        "player_rolls = [\n",
        "    [3, 5, 6, 2, 1],  # player 1's rolls\n",
        "    [4, 4, 6, 3, 2],  # player 2's rolls\n",
        "    [1, 5, 6, 6, 4]   # player 3's rolls\n",
        "]\n",
        "\n",
        "# Calculate and print the average roll for each player\n",
        "for index, rolls in enumerate(player_rolls, start=1):\n",
        "    average_roll = sum(rolls) / len(rolls)\n",
        "    print(f\"Player {index}'s Average Roll: {average_roll:.2f}\")\n",
        "\n",
        "# List of names\n",
        "names = [\"Alice\", \"Bob\", \"Eve\", \"Charlie\", \"Ivy\", \"David\", \"Olivia\", \"Peter\"]\n",
        "\n",
        "# Initialize lists for names starting with vowels and consonants\n",
        "vowel_names = []\n",
        "consonant_names = []\n",
        "\n",
        "# Loop through each name and categorize them\n",
        "for name in names:\n",
        "    first_letter = name[0].lower()\n",
        "    if first_letter in ['a', 'e', 'i', 'o', 'u']:\n",
        "        vowel_names.append(name)\n",
        "    else:\n",
        "        consonant_names.append(name)\n",
        "\n",
        "# Print the categorized names\n",
        "print(\"\\nNames Starting with Vowels:\")\n",
        "for name in vowel_names:\n",
        "    print(name)\n",
        "\n",
        "print(\"\\nNames Starting with Consonants:\")\n",
        "for name in consonant_names:\n",
        "    print(name)\n",
        "\n"
      ],
      "metadata": {
        "id": "-tuXcVjceNDA",
        "colab": {
          "base_uri": "https://localhost:8080/"
        },
        "outputId": "a0546005-94c6-403d-fe68-393dc347458d"
      },
      "execution_count": null,
      "outputs": [
        {
          "output_type": "stream",
          "name": "stdout",
          "text": [
            "Player 1's Average Roll: 3.40\n",
            "Player 2's Average Roll: 3.80\n",
            "Player 3's Average Roll: 4.40\n",
            "\n",
            "Names Starting with Vowels:\n",
            "Alice\n",
            "Eve\n",
            "Ivy\n",
            "Olivia\n",
            "\n",
            "Names Starting with Consonants:\n",
            "Bob\n",
            "Charlie\n",
            "David\n",
            "Peter\n"
          ]
        }
      ]
    },
    {
      "cell_type": "markdown",
      "source": [
        "**Instructions**\n",
        "\n",
        "1. Start by defining a list of names. You can call this list names and initialize it with a few names.\n",
        "\n",
        "2. Define two empty lists to store the names that start with vowels and consonants, respectively. You can call these lists vowel_names and consonant_names.\n",
        "\n",
        "3. Use a nested loop to iterate through each name in the names list. The outer loop should iterate through each name, while the inner loop should iterate through each character in the name.\n",
        "\n",
        "4. Inside the inner loop, use an if statement to check if the first letter of the name is a vowel or a consonant. You can do this by checking if the first character of the name is in a list of vowels.\n",
        "\n",
        "5. If the first letter is a vowel, append the name to the vowel_names list using the append() method.\n",
        "\n",
        "6. If the first letter is a consonant, append the name to the consonant_names list using the append() method.\n",
        "\n",
        "7. Once the loop has finished iterating through all the names, use the print() function to print the two lists of names. You can include a message indicating which list contains the names that start with vowels and which list contains the names that start with consonants"
      ],
      "metadata": {
        "id": "7kDiyL4K74s0"
      }
    },
    {
      "cell_type": "markdown",
      "source": [
        "## You are a teacher and you have a dictionary containing the grades of your students in a particular subject. The keys of the dictionary are the names of the students, and the values are their respective grades. You need to find the students who scored above 90% and print out their names."
      ],
      "metadata": {
        "id": "-8hkwqg8m8wN"
      }
    },
    {
      "cell_type": "code",
      "source": [
        "# Define the grades dictionary\n",
        "grades = {\n",
        "    'Alice': 85,\n",
        "    'Bob': 92,\n",
        "    'Charlie': 88,\n",
        "    'David': 95,\n",
        "    'Emily': 78,\n",
        "    'Frank': 91\n",
        "}\n",
        "\n",
        "# Write Your Code Here"
      ],
      "metadata": {
        "id": "FB2JqhT_nYSe"
      },
      "execution_count": null,
      "outputs": []
    },
    {
      "cell_type": "markdown",
      "source": [
        "**Instruction**\n",
        "\n",
        "1. Define a dictionary to store the grades of the students. The keys of the dictionary should be the names of the students, and the values should be their respective grades.\n",
        "\n",
        "2. Loop through the dictionary using a for loop and retrieve the grade of each student.\n",
        "\n",
        "3. Check if the grade is greater than 90%. If it is, print out the name of the student.\n",
        "\n",
        "4. Repeat steps 2-3 for all the students in the dictionary.\n",
        "\n",
        "5. Once the loop is complete, the names of the students who scored above 90% will have been printed to the console."
      ],
      "metadata": {
        "id": "TPiFO0N8Auts"
      }
    },
    {
      "cell_type": "markdown",
      "source": [
        "### **Solution**"
      ],
      "metadata": {
        "id": "MiVYVRLSfEKR"
      }
    },
    {
      "cell_type": "code",
      "source": [
        "# Define the grades dictionary\n",
        "grades = {\n",
        "    'Alice': 85,\n",
        "    'Bob': 92,\n",
        "    'Charlie': 88,\n",
        "    'David': 95,\n",
        "    'Emily': 78,\n",
        "    'Frank': 91\n",
        "}\n",
        "\n",
        "# Write Your Code Here\n",
        "for student, grade in grades.items():\n",
        "    if grade > 90:\n",
        "        print(student)"
      ],
      "metadata": {
        "colab": {
          "base_uri": "https://localhost:8080/"
        },
        "id": "fRk3_IB8fKaW",
        "outputId": "26126540-0588-414e-ecd4-d185f8ad1e4b"
      },
      "execution_count": null,
      "outputs": [
        {
          "output_type": "stream",
          "name": "stdout",
          "text": [
            "Bob\n",
            "David\n",
            "Frank\n"
          ]
        }
      ]
    },
    {
      "cell_type": "markdown",
      "source": [
        "## You're given a nested list of numbers, and your task is to count the number of odd and even numbers in the list. To achieve this, you'll use a nested loop and some basic conditional statements.\n",
        "\n",
        "List - numbers = [\n",
        "    [2, 5, 11, 20, 8],\n",
        "    [9, 4, 15, 28, 17],\n",
        "    [1, 6, 21, 18, 3],\n",
        "    [10, 13, 25, 33, 30],\n",
        "    [14, 7, 16, 19, 22]\n",
        "]"
      ],
      "metadata": {
        "id": "zr6auy0z5TvR"
      }
    },
    {
      "cell_type": "markdown",
      "source": [
        "**Instructions**\n",
        "\n",
        "1. Inititate the odd and even count variables.\n",
        "2. Iterate through the outer list first. ie, [2,5,11,20,8] would be the item in the first iteration.\n",
        "3. Iterate through this resulting list using an inner for loop.\n",
        "4. Check if the number is odd or even, and add the count to the counter variables initialised before.\n",
        "5. Print the odd and even counts.\n"
      ],
      "metadata": {
        "id": "enPfQ0-Zkodd"
      }
    },
    {
      "cell_type": "code",
      "source": [
        "# List of numbers\n",
        "numbers = [\n",
        "    [2, 5, 11, 20, 8],\n",
        "    [9, 4, 15, 28, 17],\n",
        "    [1, 6, 21, 18, 3],\n",
        "    [10, 13, 25, 33, 30],\n",
        "    [14, 7, 16, 19, 22]\n",
        "]\n",
        "\n",
        "# Your code here:\n"
      ],
      "metadata": {
        "id": "WDIj__rukmfu"
      },
      "execution_count": null,
      "outputs": []
    },
    {
      "cell_type": "markdown",
      "source": [
        "## Imagine you're organizing a chess tournament 🏆, where each player has to play against every other player. To achieve this, you can use nested loops in Python! Nested loops are simply loops within loops, and they come in handy when you need to perform tasks involving multiple levels of iteration.\n",
        "\n",
        "In Python, you can nest 'for' loops, 'while' loops, or even a combination of both. Let's take a closer look at how nested loops work using our chess tournament scenario:"
      ],
      "metadata": {
        "id": "zqZRSProCrKH"
      }
    },
    {
      "cell_type": "code",
      "source": [
        "# Write Your Code Here\n",
        "players = ['Alice', 'Bob', 'Charlie', 'Diana']\n",
        "# List of players\n",
        "players = [\"Player 1\", \"Player 2\", \"Player 3\", \"Player 4\"]\n",
        "\n",
        "# Iterate over each player\n",
        "for player1 in players:\n",
        "    # Inner loop to iterate over all other players\n",
        "    for player2 in players:\n",
        "        # Check if the players are not the same\n",
        "        if player1 != player2:\n",
        "            # Print the matchup\n",
        "            print(f\"{player1} vs {player2}\")\n"
      ],
      "metadata": {
        "id": "2X6rmjkWGbUu",
        "colab": {
          "base_uri": "https://localhost:8080/"
        },
        "outputId": "ed6da559-60dc-4fcb-cccc-94e194381356"
      },
      "execution_count": null,
      "outputs": [
        {
          "output_type": "stream",
          "name": "stdout",
          "text": [
            "Player 1 vs Player 2\n",
            "Player 1 vs Player 3\n",
            "Player 1 vs Player 4\n",
            "Player 2 vs Player 1\n",
            "Player 2 vs Player 3\n",
            "Player 2 vs Player 4\n",
            "Player 3 vs Player 1\n",
            "Player 3 vs Player 2\n",
            "Player 3 vs Player 4\n",
            "Player 4 vs Player 1\n",
            "Player 4 vs Player 2\n",
            "Player 4 vs Player 3\n"
          ]
        }
      ]
    },
    {
      "cell_type": "markdown",
      "source": [
        "**Instructions**\n",
        "\n",
        "1. Inititiate the list.\n",
        "2. Iterate through the list in first loop.\n",
        "3. Iterate throught the same list in inner loop.\n",
        "4. Compare the element in the outer and inner loops. If they are not the same players, print \"Player x plays against Player y\".\n"
      ],
      "metadata": {
        "id": "fQDnnflBDz6C"
      }
    },
    {
      "cell_type": "markdown",
      "source": [
        "# **Conditional & Infinite Looping**"
      ],
      "metadata": {
        "id": "Q5d2ryJwIrH9"
      }
    },
    {
      "cell_type": "markdown",
      "source": [
        "## **Building a Simple Calculator**\n",
        "\n",
        "In this activity, you will build a simple calculator using conditional looping in Python. The calculator will ask the user for two numbers and an operation (addition, subtraction, multiplication, or division), and then perform the operation on the two numbers."
      ],
      "metadata": {
        "id": "bORtEvsst-Hi"
      }
    },
    {
      "cell_type": "markdown",
      "source": [
        "**Instructions**:\n",
        "\n",
        "1. First, enter your first choice number.\n",
        "2. Second, enter your second choice number.\n",
        "3. Choose or enter the operation you want to perform.User Input will be \"(addition, subtraction, multiplication, or division)\".\n",
        "4. Use a conditional loop to perform the appropriate operation you want to perform.\n",
        "5. Finally, print the result of the operation."
      ],
      "metadata": {
        "id": "mdhVQGZwutpZ"
      }
    },
    {
      "cell_type": "code",
      "source": [
        "# Write code here\n",
        "\n",
        "# Get user input for the first number\n",
        "num1 = float(input(\"Enter the first number: \"))\n",
        "\n",
        "# Get user input for the second number\n",
        "num2 = float(input(\"Enter the second number: \"))\n",
        "\n",
        "# Get user input for the operation (addition, subtraction, multiplication, or division)\n",
        "operation = input(\"Choose the operation (addition, subtraction, multiplication, or division): \")\n",
        "\n",
        "# Perform the appropriate operation based on user input\n",
        "result = 0\n",
        "\n",
        "if operation == \"addition\":\n",
        "    result = num1 + num2\n",
        "elif operation == \"subtraction\":\n",
        "    result = num1 - num2\n",
        "elif operation == \"multiplication\":\n",
        "    result = num1 * num2\n",
        "elif operation == \"division\":\n",
        "    if num2 != 0:  # Check for division by zero\n",
        "        result = num1 / num2\n",
        "    else:\n",
        "        print(\"Division by zero is not allowed.\")\n",
        "        exit()  # Exit the program if division by zero is attempted\n",
        "else:\n",
        "    print(\"Invalid operation entered.\")\n",
        "    exit()  # Exit the program for invalid operation\n",
        "\n",
        "# Print the result\n",
        "print(f\"Result of {operation}: {result}\")\n",
        "\n"
      ],
      "metadata": {
        "id": "Ushzbz-RuqxV",
        "colab": {
          "base_uri": "https://localhost:8080/"
        },
        "outputId": "e56d8e62-2a34-4b59-9dfb-01071dede4ab"
      },
      "execution_count": null,
      "outputs": [
        {
          "output_type": "stream",
          "name": "stdout",
          "text": [
            "Enter the first number: 2\n",
            "Enter the second number: 5\n",
            "Choose the operation (addition, subtraction, multiplication, or division): division\n",
            "Result of division: 0.4\n"
          ]
        }
      ]
    },
    {
      "cell_type": "markdown",
      "source": [
        "## **Building a Guessing Game**\n",
        "\n",
        "In this activity, you will build a simple guessing game using conditional looping in Python. The game will generate a random number between 1 and 100, and the user will have to guess the number within a certain number of tries. The program will provide hints to the user after each guess, telling them whether their guess is too high or too low."
      ],
      "metadata": {
        "id": "BdL16-CWuLGr"
      }
    },
    {
      "cell_type": "markdown",
      "source": [
        "**What is the random module?**\n",
        "\n",
        "The random module is a built-in Python module that provides a suite of functions for generating random numbers and sequences. This module is often used in applications where randomization is important, such as games, simulations, and cryptography.\n",
        "\n",
        "You do not need to worry much about this as you will be learning about these modules and functions in the upcoming classes."
      ],
      "metadata": {
        "id": "arBlBPJ2eJ7R"
      }
    },
    {
      "cell_type": "markdown",
      "source": [
        "**Instructions:**\n",
        "\n",
        "1. First, import the \"random\" module to generate a random number for the game.\n",
        "2. Next, enter the number of tries you want to have and set a counter to keep track of how many tries you are left with.\n",
        "3. Now, use a while loop to allow yourself to keep guessing until you either guess the correct number or run out of tries.\n",
        "4. Finally, if you run out of tries without guessing the correct number, print a message telling what the secret number was."
      ],
      "metadata": {
        "id": "DI80fya5vZDs"
      }
    },
    {
      "cell_type": "code",
      "source": [
        "\n",
        "# Write code here\n",
        "import random\n",
        "\n",
        "# Generate a random number between 1 and 100\n",
        "secret_number = random.randint(1, 100)\n",
        "\n",
        "# Number of tries\n",
        "max_tries = 5\n",
        "tries_left = max_tries\n",
        "\n",
        "print(\"Welcome to the Guessing Game!\")\n",
        "print(f\"You have {max_tries} tries to guess the secret number between 1 and 100.\")\n",
        "\n",
        "while tries_left > 0:\n",
        "    # Get the user's guess\n",
        "    guess = int(input(\"Enter your guess: \"))\n",
        "\n",
        "    # Check if the guess is correct\n",
        "    if guess == secret_number:\n",
        "        print(f\"Congratulations! You guessed the secret number {secret_number} correctly!\")\n",
        "        break\n",
        "    elif guess < secret_number:\n",
        "        print(\"Too low. Try again.\")\n",
        "    else:\n",
        "        print(\"Too high. Try again.\")\n",
        "\n",
        "    # Decrement the number of tries left\n",
        "    tries_left -= 1\n",
        "\n",
        "if tries_left == 0:\n",
        "    print(f\"Sorry, you've run out of tries. The secret number was {secret_number}. Better luck next time!\")\n",
        "\n"
      ],
      "metadata": {
        "id": "23RmOUN2vW9s",
        "colab": {
          "base_uri": "https://localhost:8080/"
        },
        "outputId": "57db4d09-e9ab-4908-eea7-d6a01b0059fc"
      },
      "execution_count": null,
      "outputs": [
        {
          "output_type": "stream",
          "name": "stdout",
          "text": [
            "Welcome to the Guessing Game!\n",
            "You have 5 tries to guess the secret number between 1 and 100.\n",
            "Enter your guess: 58\n",
            "Too high. Try again.\n",
            "Enter your guess: 50\n",
            "Too high. Try again.\n",
            "Enter your guess: 30\n",
            "Too high. Try again.\n",
            "Enter your guess: 5\n",
            "Too low. Try again.\n",
            "Enter your guess: 15\n",
            "Too high. Try again.\n",
            "Sorry, you've run out of tries. The secret number was 6. Better luck next time!\n"
          ]
        }
      ]
    },
    {
      "cell_type": "markdown",
      "source": [
        "## **Building a Fibonacci Sequence Generator**\n",
        "\n",
        "In this activity, you will build a program that generates a Fibonacci sequence using conditional looping in Python. The Fibonacci sequence is a series of numbers in which each number is the sum of the two preceding numbers. The sequence starts with 0 and 1, and the next number in the sequence is the sum of the previous two numbers."
      ],
      "metadata": {
        "id": "CxWXvkMLuVys"
      }
    },
    {
      "cell_type": "code",
      "source": [
        "# Write code here\n",
        "\n",
        "# Get the number of terms for the Fibonacci sequence\n",
        "num_terms = int(input(\"Enter the number of terms in the Fibonacci sequence: \"))\n",
        "\n",
        "# Initialize the first two terms of the sequence\n",
        "first_term = 0\n",
        "second_term = 1\n",
        "\n",
        "# Check if the number of terms is valid\n",
        "if num_terms <= 0:\n",
        "    print(\"Please enter a positive integer for the number of terms.\")\n",
        "else:\n",
        "    # Initialize a counter to keep track of the terms generated\n",
        "    count = 2  # Starting from the third term (0 and 1 are already initialized)\n",
        "\n",
        "    # Print the first two terms\n",
        "    print(\"Fibonacci Sequence:\")\n",
        "    print(first_term)\n",
        "    print(second_term)\n",
        "\n",
        "    # Use a while loop to generate the remaining terms\n",
        "    while count < num_terms:\n",
        "        # Calculate the next term in the sequence\n",
        "        next_term = first_term + second_term\n",
        "\n",
        "        # Print the next term\n",
        "        print(next_term)\n",
        "\n",
        "        # Update the first and second terms for the next iteration\n",
        "        first_term = second_term\n",
        "        second_term = next_term\n",
        "\n",
        "        # Increment the counter\n",
        "        count += 1\n",
        "\n"
      ],
      "metadata": {
        "id": "sZhucS5rwLk0",
        "colab": {
          "base_uri": "https://localhost:8080/"
        },
        "outputId": "7596bc4f-e0a1-4505-be76-cc17defd6833"
      },
      "execution_count": null,
      "outputs": [
        {
          "output_type": "stream",
          "name": "stdout",
          "text": [
            "Enter the number of terms in the Fibonacci sequence: 6\n",
            "Fibonacci Sequence:\n",
            "0\n",
            "1\n",
            "1\n",
            "2\n",
            "3\n",
            "5\n"
          ]
        }
      ]
    },
    {
      "cell_type": "markdown",
      "source": [
        "**Instructions:**\n",
        "\n",
        "1. First, enter how many terms you want in the sequence.\n",
        "2. Then, initialize the first two terms of the sequence.\n",
        "3. Use a while loop to generate the remaining terms of the sequence.\n",
        "4. Finally, print the sequence."
      ],
      "metadata": {
        "id": "6BJVP9bzwLNE"
      }
    },
    {
      "cell_type": "markdown",
      "source": [
        "## **Counting the Digit**\n",
        "\n",
        "You have been given a task to write a Python program that counts the number of times a specific digit appears in a range of numbers. You need to use a for loop to iterate over the range of numbers, and a while loop to check each digit in the number."
      ],
      "metadata": {
        "id": "bxxR7TtBugpK"
      }
    },
    {
      "cell_type": "markdown",
      "source": [
        "Example:\n",
        "\n",
        "* Enter start number: 100\n",
        "* Enter end number: 150\n",
        "* Enter digit to count: 5\n",
        "* The digit 5 appears 6 times between 100 and 150.\n"
      ],
      "metadata": {
        "id": "-oo68QaIdoL6"
      }
    },
    {
      "cell_type": "code",
      "source": [
        "# Write code here\n",
        "# Input the start and end numbers of the range\n",
        "start_number = int(input(\"Enter start number: \"))\n",
        "end_number = int(input(\"Enter end number: \"))\n",
        "\n",
        "# Input the digit to count\n",
        "digit_to_count = int(input(\"Enter digit to count: \"))\n",
        "\n",
        "# Initialize a counter variable to keep track of the number of occurrences\n",
        "count = 0\n",
        "\n",
        "# Use a for loop to iterate over the range of numbers\n",
        "for number in range(start_number, end_number + 1):\n",
        "    # Create a temporary variable to store the current number for digit checking\n",
        "    current_number = number\n",
        "\n",
        "    # Use a while loop to check each digit in the current number\n",
        "    while current_number > 0:\n",
        "        # Extract the last digit of the current number\n",
        "        last_digit = current_number % 10\n",
        "\n",
        "        # Check if the last digit matches the digit to be counted\n",
        "        if last_digit == digit_to_count:\n",
        "            count += 1\n",
        "\n",
        "        # Remove the last digit from the current number\n",
        "        current_number //= 10\n",
        "\n",
        "# Print the total count of the specified digit\n",
        "print(f\"The digit {digit_to_count} appears {count} times between {start_number} and {end_number}.\")\n"
      ],
      "metadata": {
        "id": "uhS0_Btxc59A",
        "colab": {
          "base_uri": "https://localhost:8080/"
        },
        "outputId": "13f1e5d8-60eb-4c95-945d-32008f04a08f"
      },
      "execution_count": null,
      "outputs": [
        {
          "output_type": "stream",
          "name": "stdout",
          "text": [
            "Enter start number: 10\n",
            "Enter end number: 80\n",
            "Enter digit to count: 8\n",
            "The digit 8 appears 8 times between 10 and 80.\n"
          ]
        }
      ]
    },
    {
      "cell_type": "markdown",
      "source": [
        "**Instructions:**\n",
        "\n",
        "1. First, input two numbers as the range (start and end) between which the program should count the occurrence of a digit.\n",
        "2. Then, input the digit that needs to be counted.\n",
        "3. Initialize a counter variable to keep track of the number of occurrences of the digit.\n",
        "4. Use a for loop to iterate over the range of numbers between the start and end values (inclusive).\n",
        "5. Within the for loop, use a while loop to check each digit in the current number. If the digit matches the digit to be counted, increment the counter variable.\n",
        "6. After the for loop completes, print the total count of the digit that was entered by the user."
      ],
      "metadata": {
        "id": "o9NtECV_c8vr"
      }
    },
    {
      "cell_type": "markdown",
      "source": [
        "# **Custom Functions in Python**"
      ],
      "metadata": {
        "id": "gjRKFGWFIrPu"
      }
    },
    {
      "cell_type": "markdown",
      "source": [
        "## **Building a Calculator**\n",
        "\n",
        "\n",
        "In this activity, we will create a custom function in Python to build a calculator that can perform basic arithmetic operations such as addition, subtraction, multiplication, and division."
      ],
      "metadata": {
        "id": "5oJRi3Mv1MuD"
      }
    },
    {
      "cell_type": "markdown",
      "source": [
        "**💻 Code:**"
      ],
      "metadata": {
        "id": "etkfY4lA8iRg"
      }
    },
    {
      "cell_type": "code",
      "execution_count": null,
      "metadata": {
        "id": "L5nnlASM1JfV"
      },
      "outputs": [],
      "source": [
        "# Define a function called calculator that takes three arguments: num1, num2, and operation\n",
        "def calculator(num1, num2, operation):\n",
        "    if operation == '+':\n",
        "        return num1 + num2\n",
        "    elif operation == '-':\n",
        "        return num1 - num2\n",
        "    elif operation == '*':\n",
        "        return num1 * num2\n",
        "    elif operation == '/':\n",
        "        if num2 != 0:  # Check for division by zero\n",
        "            return num1 / num2\n",
        "        else:\n",
        "            return \"Division by zero is not allowed.\"\n",
        "    else:\n",
        "        return \"Invalid operation\"\n",
        "\n"
      ]
    },
    {
      "cell_type": "markdown",
      "source": [
        "**🧪 Test Code:**"
      ],
      "metadata": {
        "id": "OXMHdeOH9EuG"
      }
    },
    {
      "cell_type": "code",
      "source": [
        "# Test the calculator function\n",
        "# Test the calculator function with different values\n",
        "result1 = calculator(5, 3, '+')\n",
        "print(\"5 + 3 =\", result1)\n",
        "\n",
        "result2 = calculator(10, 4, '-')\n",
        "print(\"10 - 4 =\", result2)\n",
        "\n",
        "result3 = calculator(6, 7, '*')\n",
        "print(\"6 * 7 =\", result3)\n",
        "\n",
        "result4 = calculator(12, 3, '/')\n",
        "print(\"12 / 3 =\", result4)\n",
        "\n",
        "result5 = calculator(8, 0, '/')\n",
        "print(\"8 / 0 =\", result5)  # Division by zero\n",
        "\n",
        "result6 = calculator(5, 4, '^')\n",
        "print(\"5 ^ 4 =\", result6)  # Invalid operation\n"
      ],
      "metadata": {
        "id": "woikfzcB1j-S",
        "colab": {
          "base_uri": "https://localhost:8080/"
        },
        "outputId": "a822f827-7c95-4f19-ed31-f2e81d5f5f3e"
      },
      "execution_count": null,
      "outputs": [
        {
          "output_type": "stream",
          "name": "stdout",
          "text": [
            "5 + 3 = 8\n",
            "10 - 4 = 6\n",
            "6 * 7 = 42\n",
            "12 / 3 = 4.0\n",
            "8 / 0 = Division by zero is not allowed.\n",
            "5 ^ 4 = Invalid operation\n"
          ]
        }
      ]
    },
    {
      "cell_type": "markdown",
      "source": [
        "**Instructions:**\n",
        "\n",
        "1. Define a function called calculator that takes three arguments: num1, num2, and operation.\n",
        "2. In the function, use an if-else statement to determine the arithmetic operation to perform based on the value of operation.\n",
        "3. If operation is '+', return the sum of num1 and num2.\n",
        "4. If operation is '-', return the difference between num1 and num2.\n",
        "5. If operation is '*', return the product of num1 and num2.\n",
        "6. If operation is '/', return the quotient of num1 and num2.\n",
        "7. If operation is not one of the four valid arithmetic operations, return the string \"Invalid operation\".\n",
        "7. Test your function by calling it with different values for num1, num2, and operation."
      ],
      "metadata": {
        "id": "K8ncM2pa1Ttz"
      }
    },
    {
      "cell_type": "markdown",
      "source": [
        "## **Dice Rolling** 🎲\n",
        "\n",
        "Roll a dice and display the result. 🎲"
      ],
      "metadata": {
        "id": "bFFQSaSN3ymq"
      }
    },
    {
      "cell_type": "markdown",
      "source": [
        "**What is the random module?**\n",
        "\n",
        "The random module is a built-in Python module that provides a suite of functions for generating random numbers and sequences. This module is often used in applications where randomization is important, such as games, simulations, and cryptography.\n",
        "\n",
        "You do not need to worry much about this as you will be learning about these modules and functions in the upcoming classes."
      ],
      "metadata": {
        "id": "dld5FXtd7AnL"
      }
    },
    {
      "cell_type": "markdown",
      "source": [
        "**Instructions:**\n",
        "\n",
        "1. The random module shoud be imported to generate a random number for the dice roll.\n",
        "2. roll_dice() is defined as a custom function that generates a random number between 1 and 6.\n",
        "3. The function returns the result of the dice roll.\n",
        "4. The result variable is assigned to the return value of the roll_dice() function.\n",
        "5. The result is printed using a formatted string."
      ],
      "metadata": {
        "id": "opLb4qu54RU7"
      }
    },
    {
      "cell_type": "code",
      "source": [
        "import random\n",
        "\n",
        "# Define a custom function to roll the dice\n",
        "def roll_dice():\n",
        "    return random.randint(1, 6)\n",
        "\n",
        "# Call the roll_dice() function to get the result of the dice roll\n",
        "result = roll_dice()\n",
        "\n",
        "# Print the result using a formatted string\n",
        "print(f\"The dice rolled and the result is: {result}\")\n"
      ],
      "metadata": {
        "colab": {
          "base_uri": "https://localhost:8080/"
        },
        "id": "Ja_JoNjHD9ju",
        "outputId": "8c03e22a-93b9-4efb-977b-692a6e0de127"
      },
      "execution_count": null,
      "outputs": [
        {
          "output_type": "stream",
          "name": "stdout",
          "text": [
            "The dice rolled and the result is: 3\n"
          ]
        }
      ]
    },
    {
      "cell_type": "markdown",
      "source": [
        "## **Celsius to Fahrenheit Converter**\n",
        "\n",
        "Create a custom function that takes in a temperature in Celsius and returns the temperature in Fahrenheit.\n",
        "\n",
        "**For example**: If the input temperature is 20 degrees Celsius, the output temperature should be 68 degrees Fahrenheit.\n"
      ],
      "metadata": {
        "id": "XB3M38js4r8r"
      }
    },
    {
      "cell_type": "markdown",
      "source": [
        "💻 Code:"
      ],
      "metadata": {
        "id": "LVMw5sDQ8elX"
      }
    },
    {
      "cell_type": "code",
      "source": [
        "# Define a function to convert celsius to fahrenheit\n",
        "def celsius_to_fahrenheit(celsius):\n",
        "    fahrenheit = (celsius * 9/5) + 32\n",
        "    return fahrenheit\n",
        "\n",
        "\n"
      ],
      "metadata": {
        "id": "AG3AA-1n4p5r"
      },
      "execution_count": null,
      "outputs": []
    },
    {
      "cell_type": "markdown",
      "source": [
        "**🧪 Test Code:**"
      ],
      "metadata": {
        "id": "KDtKd97y9CSH"
      }
    },
    {
      "cell_type": "code",
      "source": [
        "# Example usage\n",
        "# Test the function\n",
        "celsius_temperature = 20\n",
        "fahrenheit_temperature = celsius_to_fahrenheit(celsius_temperature)\n",
        "print(f\"{celsius_temperature} degrees Celsius is equal to {fahrenheit_temperature} degrees Fahrenheit.\")"
      ],
      "metadata": {
        "id": "T_sVClYZ5LT6",
        "colab": {
          "base_uri": "https://localhost:8080/"
        },
        "outputId": "05f55cbd-c641-4139-9f24-e510d491918b"
      },
      "execution_count": null,
      "outputs": [
        {
          "output_type": "stream",
          "name": "stdout",
          "text": [
            "20 degrees Celsius is equal to 68.0 degrees Fahrenheit.\n"
          ]
        }
      ]
    },
    {
      "cell_type": "markdown",
      "source": [
        "Output:\n",
        "\n",
        "If the input temperature is 20 degrees Celsius, the output temperature should be 68 degrees Fahrenheit."
      ],
      "metadata": {
        "id": "grA9fcVA5EDC"
      }
    },
    {
      "cell_type": "markdown",
      "source": [
        "**Instructions:**\n",
        "\n",
        "To create this function, you can use the formula to convert the temperature in Celsius to Fahrenheit. The formula for converting Celsius to Fahrenheit is F = (C * 9/5) + 32, where F is the temperature in Fahrenheit and C is the temperature in Celsius."
      ],
      "metadata": {
        "id": "Iz8PDswd5Of5"
      }
    },
    {
      "cell_type": "markdown",
      "source": [
        "## **Sum odd Numbers** ➖\n",
        "\n",
        "In this activity, you will create a custom function in Python that takes a list of integers as an argument and returns the sum of all odd numbers in the list."
      ],
      "metadata": {
        "id": "f38kTkX-6DR4"
      }
    },
    {
      "cell_type": "markdown",
      "source": [
        "💻 Code:"
      ],
      "metadata": {
        "id": "_M8e-8p36M1J"
      }
    },
    {
      "cell_type": "code",
      "source": [
        "# define sum_odd custom function\n",
        "def sum_odd(lst):\n",
        "    # Initialize a variable to store the sum of odd numbers\n",
        "    result = 0\n",
        "\n",
        "    # Iterate through the list\n",
        "    for num in lst:\n",
        "        # Check if the number is odd\n",
        "        if num % 2 != 0:\n",
        "            # Add the odd number to the result\n",
        "            result += num\n",
        "\n",
        "    return result\n",
        "\n",
        "# Test the function\n",
        "number_list = [1, 2, 3, 4, 5, 6, 7, 8, 9]\n",
        "result = sum_odd(number_list)\n",
        "print(f\"The sum of odd numbers in the list is: {result}\")\n",
        "\n",
        "\n"
      ],
      "metadata": {
        "id": "BfJMZFk75GP3",
        "colab": {
          "base_uri": "https://localhost:8080/"
        },
        "outputId": "2b7827bd-87f5-4cae-b78a-9e13b5d62f03"
      },
      "execution_count": null,
      "outputs": [
        {
          "output_type": "stream",
          "name": "stdout",
          "text": [
            "The sum of odd numbers in the list is: 25\n"
          ]
        }
      ]
    },
    {
      "cell_type": "markdown",
      "source": [
        "**🧪 Test Code:**"
      ],
      "metadata": {
        "id": "6UGSjTv75-Qw"
      }
    },
    {
      "cell_type": "code",
      "source": [
        "# test here\n",
        "\n",
        "# Test the function\n",
        "number_list = [1, 2, 3, 4, 5, 6, 7, 8, 9]\n",
        "result = sum_odd_numbers(number_list)\n",
        "print(f\"The sum of odd numbers in the list is: {result}\")"
      ],
      "metadata": {
        "id": "7yyxAwOY5_fS",
        "colab": {
          "base_uri": "https://localhost:8080/"
        },
        "outputId": "280bcd83-93e4-49ce-ff16-8c69f82adfd2"
      },
      "execution_count": null,
      "outputs": [
        {
          "output_type": "stream",
          "name": "stdout",
          "text": [
            "The sum of odd numbers in the list is: 25\n"
          ]
        }
      ]
    },
    {
      "cell_type": "markdown",
      "source": [
        "🤖 Output should be in format:\n",
        "\n",
        "If the input is [1, 2, 3, 4, 5, 6], then the output should be 9"
      ],
      "metadata": {
        "id": "Pc5U7agP6_uJ"
      }
    },
    {
      "cell_type": "markdown",
      "source": [
        "**Instructions:**\n",
        "\n",
        "To create the sum_odd function, follow these steps:\n",
        "\n",
        "1. Define a function named sum_odd that takes one argument, lst.\n",
        "2. Inside the function, create a variable named result and set its value to 0.\n",
        "3. Use a for loop to iterate through each element in lst.\n",
        "4. For each element, check if it is odd by using the modulus operator (%). If the result not is 0, add the element to result.\n",
        "5. After the loop, return result."
      ],
      "metadata": {
        "id": "NJFkJnem6Yyq"
      }
    },
    {
      "cell_type": "markdown",
      "source": [
        "# **Advanced Looping Concepts**"
      ],
      "metadata": {
        "id": "W80MJEP4IrWl"
      }
    },
    {
      "cell_type": "markdown",
      "source": [
        "## **Lambda Functions**\n",
        "\n",
        "🧑‍💻 You are working as a Python developer for a startup company that has just received a project from a client. The client wants a program that can perform certain operations on lists using lambda functions. Your manager has assigned you the task of finding the sum of squared odd numbers from the list.\n",
        "\n",
        "👉 Hint: You have to use filter, map and reduce functions to get the task done."
      ],
      "metadata": {
        "id": "q02nU6G56Gxh"
      }
    },
    {
      "cell_type": "code",
      "execution_count": null,
      "metadata": {
        "id": "zbzwgW7357yh"
      },
      "outputs": [],
      "source": [
        "# Import reduce from functools module\n",
        "from functools import reduce\n",
        "\n",
        "# Create a list of numbers from 1 to 10\n",
        "numbers = list(range(1, 11))\n",
        "\n",
        "# Write your code here\n"
      ]
    },
    {
      "cell_type": "markdown",
      "source": [
        "**Instructions:**\n",
        "\n",
        "1. Begin by creating a list of numbers from 1 to 10.\n",
        "2. Use a lambda function to filter out all even numbers from the list.\n",
        "3. Use a lambda function to square all the remaining odd numbers in the filtered list.\n",
        "4. Use a lambda function to find the sum of all the squared odd numbers in the list.\n",
        "5. Print the final result.\n",
        "\n",
        "**The reduce(fun,seq) function is used to apply a particular function passed in its argument to all of the list elements mentioned in the sequence passed along.This function is defined in “functools” module.**\n",
        "No need to worry if you haven't used this function before. You can get some additional information about the function here: https://www.geeksforgeeks.org/reduce-in-python/"
      ],
      "metadata": {
        "id": "Lp9tch5h6Vw6"
      }
    },
    {
      "cell_type": "markdown",
      "source": [
        "## **Pizza Toppings**\n",
        "\n",
        "🍕🍔 You have two lists, one containing pizza toppings and the other containing burger toppings. You need to create a new list that contains all the toppings from both the pizza and burger toppings lists, but only if they have more than 5 characters in their name.\n",
        "\n",
        "Can you write the code to create a new list that contains all the toppings from both the pizza and burger toppings lists, but only if they have more than 5 characters in their name using list comprehension only?\n",
        "\n",
        "👉 Hint: You can use a conditional statement to check the length of each topping's name."
      ],
      "metadata": {
        "id": "26lox7n97hNf"
      }
    },
    {
      "cell_type": "code",
      "source": [
        "# Here are the example lists of toppings\n",
        "pizza_toppings = ['mushroom', 'olive', 'tomato', 'pepperoni', 'onion', 'garlic']\n",
        "burger_toppings = ['lettuce', 'cheese', 'mayonnaise', 'bacon', 'pickle', 'avocado']\n",
        "\n",
        "# Write your code here\n",
        "\n",
        "\n",
        "# Combine both lists with toppings having more than 5 characters in their names\n",
        "combined_toppings = [topping for topping in pizza_toppings + burger_toppings if len(topping) > 5]\n",
        "\n",
        "# Print the result\n",
        "print(combined_toppings)\n",
        "\n"
      ],
      "metadata": {
        "id": "_L80Blvu6beB",
        "colab": {
          "base_uri": "https://localhost:8080/"
        },
        "outputId": "93e35eb6-1ea0-4d3d-c983-953cb69266d9"
      },
      "execution_count": null,
      "outputs": [
        {
          "output_type": "stream",
          "name": "stdout",
          "text": [
            "['mushroom', 'tomato', 'pepperoni', 'garlic', 'lettuce', 'cheese', 'mayonnaise', 'pickle', 'avocado']\n"
          ]
        }
      ]
    },
    {
      "cell_type": "markdown",
      "source": [
        "**Instructions:**\n",
        "\n",
        "1. Create two lists of toppings, one for pizza and one for burgers.\n",
        "\n",
        "2. Use list comprehension to iterate over both the pizza and burger toppings lists, and combine them into a new list.\n",
        "\n",
        "3. Use a conditional statement to check the length of each topping's name, and only include it in the new list if it has more than 5 characters."
      ],
      "metadata": {
        "id": "YUua3mlb7u-2"
      }
    },
    {
      "cell_type": "markdown",
      "source": [
        "## **Sales Data**\n",
        "\n",
        "🌎🛍️ Suppose you work for a company that sells products in different countries. You have been given two lists: one containing the names of the countries where the company sells its products, and the other containing the sales data for each country. Your task is to create a dictionary where the keys are the country names, and the values are the corresponding sales data. However, the sales data should only include values that are greater than 1000. You are not allowed to use any loops, and must use list comprehension to solve the problem.\n",
        "\n",
        "Can you write the code to create the desired dictionary using list comprehension?\n",
        "\n",
        "👉 Hint: You can use zip function to create pairs of country and sales data from the two lists."
      ],
      "metadata": {
        "id": "RzZvjLHR75SA"
      }
    },
    {
      "cell_type": "code",
      "source": [
        "# Here are the two lists\n",
        "countries = [\"USA\", \"Canada\", \"Mexico\", \"Brazil\", \"UK\", \"France\", \"Germany\", \"China\", \"India\"]\n",
        "sales = [2500, 300, 1200, 800, 500, 2000, 4000, 1000, 1500]\n",
        "\n",
        "# Write your code here\n",
        "# Use zip to create a list of pairs (country, sales data)\n",
        "pairs = list(zip(countries, sales))\n",
        "\n",
        "# Use list comprehension to create the dictionary with sales data > 1000\n",
        "sales_dict = {country: sales for country, sales in pairs if sales > 1000}\n",
        "\n",
        "# Print the resulting dictionary\n",
        "print(sales_dict)\n",
        "\n"
      ],
      "metadata": {
        "id": "ih8qq03B70j-",
        "colab": {
          "base_uri": "https://localhost:8080/"
        },
        "outputId": "72804da1-d6c3-4f1f-c139-877513524d7e"
      },
      "execution_count": null,
      "outputs": [
        {
          "output_type": "stream",
          "name": "stdout",
          "text": [
            "{'USA': 2500, 'Mexico': 1200, 'France': 2000, 'Germany': 4000, 'India': 1500}\n"
          ]
        }
      ]
    },
    {
      "cell_type": "markdown",
      "source": [
        "**Instructions:**\n",
        "\n",
        "1. Use zip function to create a list of pairs, where each pair contains a country name and its corresponding sales data.\n",
        "\n",
        "2. Use list comprehension to create a dictionary where the keys are the country names and the values are the sales data. However, only include sales data that are greater than 1000."
      ],
      "metadata": {
        "id": "xVqhKQNM8GXP"
      }
    },
    {
      "cell_type": "markdown",
      "source": [
        "## **Stock Filtering**\n",
        "\n",
        "📊📈 Suppose you are working for a company that deals with financial data. You have been given a list of dictionaries, where each dictionary contains the following information about a stock: name, ticker symbol, price, and percentage change in price. Your task is to create a new list of dictionaries, where each dictionary contains only the name and price of the stock, but only for those stocks where the price is greater than 100 and the percentage change is positive. You must use list comprehension to solve the problem.\n",
        "\n",
        "Can you write the code to create the desired list of dictionaries using list comprehension?\n",
        "\n",
        "👉 Hint: You can use conditional statements to check if the price is greater than 100 and the percentage change is positive in the list comprehension."
      ],
      "metadata": {
        "id": "sBvyWOQv8KqP"
      }
    },
    {
      "cell_type": "code",
      "source": [
        "# Define a list of dictionaries with stock information\n",
        "stocks = [\n",
        "    {\"name\": \"Company A\", \"ticker\": \"A\", \"price\": 120, \"percentage_change\": 5.0},\n",
        "    {\"name\": \"Company B\", \"ticker\": \"B\", \"price\": 90, \"percentage_change\": -2.0},\n",
        "    {\"name\": \"Company C\", \"ticker\": \"C\", \"price\": 110, \"percentage_change\": 3.5},\n",
        "    {\"name\": \"Company D\", \"ticker\": \"D\", \"price\": 95, \"percentage_change\": 1.8},\n",
        "    {\"name\": \"Company E\", \"ticker\": \"E\", \"price\": 130, \"percentage_change\": 6.2},\n",
        "]\n",
        "\n",
        "# Use list comprehension to filter stocks based on conditions\n",
        "filtered_stocks = [{\"name\": stock[\"name\"], \"price\": stock[\"price\"]} for stock in stocks if stock[\"price\"] > 100 and stock[\"percentage_change\"] > 0]\n",
        "\n",
        "# Print the resulting list of dictionaries\n",
        "print(filtered_stocks)\n"
      ],
      "metadata": {
        "id": "pT6d0-9M8JJ8",
        "colab": {
          "base_uri": "https://localhost:8080/"
        },
        "outputId": "0b98d7cd-a0d7-45d9-d0a0-dabe11dfa2fd"
      },
      "execution_count": null,
      "outputs": [
        {
          "output_type": "stream",
          "name": "stdout",
          "text": [
            "[{'name': 'Company A', 'price': 120}, {'name': 'Company C', 'price': 110}, {'name': 'Company E', 'price': 130}]\n"
          ]
        }
      ]
    },
    {
      "cell_type": "code",
      "source": [],
      "metadata": {
        "id": "0TRx0YgyqrnR"
      },
      "execution_count": null,
      "outputs": []
    },
    {
      "cell_type": "code",
      "source": [
        "new_stocks"
      ],
      "metadata": {
        "colab": {
          "base_uri": "https://localhost:8080/"
        },
        "id": "1uBEkCtWpw7K",
        "outputId": "5ea5a354-b87d-452e-d5d4-6bd6421094d7"
      },
      "execution_count": null,
      "outputs": [
        {
          "output_type": "execute_result",
          "data": {
            "text/plain": [
              "[{'name': 'Apple Inc.', 'price': 120.0},\n",
              " {'name': 'Microsoft Corporation', 'price': 95.0},\n",
              " {'name': 'Amazon.com, Inc.', 'price': 250.0},\n",
              " {'name': 'Alphabet Inc.', 'price': 110.0},\n",
              " {'name': 'Facebook, Inc.', 'price': 80.0}]"
            ]
          },
          "metadata": {},
          "execution_count": 12
        }
      ]
    },
    {
      "cell_type": "markdown",
      "source": [
        "**Instructions:**\n",
        "\n",
        "1. Use list comprehension to filter the stocks where the price is greater than 100 and the percentage change is positive.\n",
        "\n",
        "2. Use list comprehension to create a new list of dictionaries where each dictionary contains only the name and price of the stock."
      ],
      "metadata": {
        "id": "vaB7yY3q8ctY"
      }
    },
    {
      "cell_type": "markdown",
      "source": [
        "## **Duplicate Songs**\n",
        "\n",
        "🎵🎶 You have a list of songs that you like to listen to, but you notice that some of the songs have duplicate names. You want to create a new set that contains the unique names of all the songs and keep the songs whose name doesn't start with \"S\" and doesn't end with \"n\" in your list using set comprehension.\n",
        "\n",
        "Can you write the code to create a new set that contains the unique names of all the songs in your list using set comprehension only?\n",
        "\n",
        "👉 Hint: Set comprehension is similar to list comprehension, but with curly braces {} instead of square brackets []."
      ],
      "metadata": {
        "id": "Gm_824J28kwx"
      }
    },
    {
      "cell_type": "code",
      "source": [
        "# Here's an example list of songs\n",
        "songs = ['Bohemian Rhapsody', 'Stairway to Heaven', 'Bohemian Rhapsody', 'Hotel California', 'November Rain', 'Stairway to Heaven', 'Sweet Child O\\' Mine']\n",
        "\n",
        "# Write your code here\n",
        "# Use set comprehension to create a new set of unique names\n",
        "unique_song_names = {song for song in songs if not (song.startswith(\"S\") and song.endswith(\"n\"))}\n",
        "\n",
        "# Print the resulting set of unique song names\n",
        "print(unique_song_names)\n",
        "\n"
      ],
      "metadata": {
        "id": "1RR_E-kM8hRt",
        "colab": {
          "base_uri": "https://localhost:8080/"
        },
        "outputId": "1ea5b59b-e479-4d59-ae28-8cd35d034bfa"
      },
      "execution_count": null,
      "outputs": [
        {
          "output_type": "stream",
          "name": "stdout",
          "text": [
            "{'Hotel California', 'November Rain', 'Bohemian Rhapsody', \"Sweet Child O' Mine\"}\n"
          ]
        }
      ]
    },
    {
      "cell_type": "markdown",
      "source": [
        "**Instructions:**\n",
        "\n",
        "1. Create a list of songs that contains duplicate names.\n",
        "\n",
        "2. Use set comprehension to iterate over the list of songs and create a new set that contains only the unique names of the songs.\n",
        "\n",
        "3. Include a condition in the set comprehension to filter out songs whose name starts with \"S\" and ends with \"n\"."
      ],
      "metadata": {
        "id": "Jqpuv0Kh8t1x"
      }
    },
    {
      "cell_type": "markdown",
      "source": [
        "# **OOPs in Python**"
      ],
      "metadata": {
        "id": "HC2V6Rf0Ircs"
      }
    },
    {
      "cell_type": "markdown",
      "source": [
        "## **Building a Simple Calculator** 🧮🔢\n",
        "\n",
        "\n",
        "In this activity, you will build a simple calculator program in Python using Object-Oriented Programming (OOP) concepts."
      ],
      "metadata": {
        "id": "wi0GGVc-l-iH"
      }
    },
    {
      "cell_type": "code",
      "source": [
        "# Define a simple calculator class\n",
        "\n",
        "class Calculator:\n",
        "    def add(self, num1, num2):\n",
        "        return num1 + num2\n",
        "\n",
        "    def subtract(self, num1, num2):\n",
        "        return num1 - num2\n",
        "\n",
        "    def multiply(self, num1, num2):\n",
        "        return num1 * num2\n",
        "\n",
        "    def divide(self, num1, num2):\n",
        "        if num2 == 0:\n",
        "            raise ValueError(\"Cannot divide by zero\")\n",
        "        return num1 / num2\n",
        "\n",
        "# Create an instance of the Calculator class\n",
        "calculator = Calculator()"
      ],
      "metadata": {
        "id": "zphxebyom5IQ"
      },
      "execution_count": null,
      "outputs": []
    },
    {
      "cell_type": "code",
      "source": [
        "\n",
        "# Test the calculator methods\n",
        "print(\"Addition:\", calculator.add(5, 3))\n",
        "print(\"Subtraction:\", calculator.subtract(8, 2))\n",
        "print(\"Multiplication:\", calculator.multiply(4, 6))\n",
        "try:\n",
        "    print(\"Division:\", calculator.divide(10, 2))\n",
        "    print(\"Division by zero:\", calculator.divide(5, 0))  # This will raise a ValueError\n",
        "except ValueError as e:\n",
        "    print(e)\n"
      ],
      "metadata": {
        "id": "rKnQSAlpsdx0",
        "colab": {
          "base_uri": "https://localhost:8080/"
        },
        "outputId": "7d9f84a6-3f76-4042-d63c-5cdb637cac62"
      },
      "execution_count": null,
      "outputs": [
        {
          "output_type": "stream",
          "name": "stdout",
          "text": [
            "Addition: 8\n",
            "Subtraction: 6\n",
            "Multiplication: 24\n",
            "Division: 5.0\n",
            "Cannot divide by zero\n"
          ]
        }
      ]
    },
    {
      "cell_type": "markdown",
      "source": [
        "👉 **Instructions:**\n",
        "\n",
        "1. Start by defining a class called Calculator.\n",
        "2. Define four methods within the class: add, subtract, multiply, and divide.\n",
        "3. Each method should take two arguments: num1 and num2.\n",
        "4. The add method should return the sum of num1 and num2.\n",
        "5. The subtract method should return the difference between num1 and num2.\n",
        "6. The multiply method should return the product of num1 and num2.\n",
        "7. The divide method should return the result of dividing num1 by num2. However, if num2 is zero, the method should raise a ValueError with the message \"Cannot divide by zero\"."
      ],
      "metadata": {
        "id": "QvuzAZb-m8EG"
      }
    },
    {
      "cell_type": "markdown",
      "source": [
        "## 🏀**Basketball Game Score Tracker**📈\n",
        "\n",
        "Create a class that will keep track of the score of a basketball game. The class should have methods for updating the score and printing the current score."
      ],
      "metadata": {
        "id": "3IigXP8Ir4Yq"
      }
    },
    {
      "cell_type": "code",
      "source": [
        "# Create BasketballGame class\n",
        "class BasketballGame:\n",
        "    def __init__(self):\n",
        "        self.team1_score = 0\n",
        "        self.team2_score = 0\n",
        "\n",
        "    def update_score_team1(self, points):\n",
        "        self.team1_score += points\n",
        "\n",
        "    def update_score_team2(self, points):\n",
        "        self.team2_score += points\n",
        "\n",
        "    def print_score(self):\n",
        "        print(f\"Team 1: {self.team1_score} points\")\n",
        "        print(f\"Team 2: {self.team2_score} points\")\n",
        "\n",
        "# Create an instance of the BasketballGame class\n",
        "game = BasketballGame()\n",
        "\n",
        "# Update the score for both teams\n",
        "game.update_score_team1(2)\n",
        "game.update_score_team2(3)\n",
        "game.update_score_team1(1)\n",
        "game.update_score_team2(2)\n",
        "\n",
        "# Print the current score\n",
        "game.print_score()\n",
        "\n"
      ],
      "metadata": {
        "id": "op236YgFsjA7",
        "colab": {
          "base_uri": "https://localhost:8080/"
        },
        "outputId": "2091c838-ec01-444e-cf69-d88f2c9d9078"
      },
      "execution_count": null,
      "outputs": [
        {
          "output_type": "stream",
          "name": "stdout",
          "text": [
            "Team 1: 3 points\n",
            "Team 2: 5 points\n"
          ]
        }
      ]
    },
    {
      "cell_type": "code",
      "source": [
        "# Example Usage:\n"
      ],
      "metadata": {
        "id": "KSatdMIbsuI7"
      },
      "execution_count": null,
      "outputs": []
    },
    {
      "cell_type": "markdown",
      "source": [
        "👉 **Instructions:**\n",
        "\n",
        "1. Start by creating a class called \"BasketballGame\".\n",
        "2. In the class constructor, initialize the score for both teams to 0.\n",
        "3. Add methods to the class for updating the score for each team. These methods should take in a number of points and add that to the appropriate team's score.\n",
        "4. Add a method to the class for printing the current score. This method should print out the score for both teams.\n",
        "5. Test your code by creating an instance of the \"BasketballGame\" class, updating the score for each team, and printing the current score."
      ],
      "metadata": {
        "id": "klxR5WZOtXlL"
      }
    },
    {
      "cell_type": "markdown",
      "source": [
        "## 🎨 **Paint Brush Class** 🖌️\n",
        "\n",
        "Create a Python class for a paint brush that has the following properties:\n",
        "\n",
        "* Size (small, medium, or large)\n",
        "* Color (red, blue, green, or yellow)\n",
        "* Brand (Winsor & Newton, Liquitex, or Grumbacher)\n",
        "* Type (round or flat)\n"
      ],
      "metadata": {
        "id": "VwvhqW59s8-7"
      }
    },
    {
      "cell_type": "code",
      "source": [
        "# Define PaintBrush Class\n",
        "\n",
        "class PaintBrush:\n",
        "    def __init__(self, size, color, brand, brush_type):\n",
        "        self.size = size\n",
        "        self.color = color\n",
        "        self.brand = brand\n",
        "        self.brush_type = brush_type\n",
        "\n",
        "    def describe(self):\n",
        "        description = f\"Paint Brush Details:\\nSize: {self.size}\\nColor: {self.color}\\nBrand: {self.brand}\\nType: {self.brush_type}\"\n",
        "        return description\n",
        "\n",
        "# Create an instance of the PaintBrush class\n",
        "brush1 = PaintBrush(\"medium\", \"blue\", \"Winsor & Newton\", \"round\")\n",
        "\n",
        "# Describe the paint brush\n",
        "print(brush1.describe())\n",
        "\n"
      ],
      "metadata": {
        "id": "YZ8JOqPotDM7",
        "colab": {
          "base_uri": "https://localhost:8080/"
        },
        "outputId": "5ef23074-d963-4b80-95dd-29a7c4a5d950"
      },
      "execution_count": null,
      "outputs": [
        {
          "output_type": "stream",
          "name": "stdout",
          "text": [
            "Paint Brush Details:\n",
            "Size: medium\n",
            "Color: blue\n",
            "Brand: Winsor & Newton\n",
            "Type: round\n"
          ]
        }
      ]
    },
    {
      "cell_type": "markdown",
      "source": [
        "Now, create an instance of the PaintBrush class with the following properties:\n",
        "\n",
        "* Size: medium\n",
        "* Color: red\n",
        "* Brand: Winsor & Newton\n",
        "* Type: round\n",
        "* Call the paint() method on the instance to simulate painting with the brush."
      ],
      "metadata": {
        "id": "XA4HMkLatMrq"
      }
    },
    {
      "cell_type": "code",
      "source": [
        "# Test Case\n",
        "\n",
        "class PaintBrush:\n",
        "    def __init__(self, size, color, brand, brush_type):\n",
        "        self.size = size\n",
        "        self.color = color\n",
        "        self.brand = brand\n",
        "        self.brush_type = brush_type\n",
        "\n",
        "    def describe(self):\n",
        "        description = f\"Paint Brush Details:\\nSize: {self.size}\\nColor: {self.color}\\nBrand: {self.brand}\\nType: {self.brush_type}\"\n",
        "        return description\n",
        "\n",
        "    def paint(self):\n",
        "        print(f\"Using the {self.size} {self.color} paintbrush to paint.\")\n",
        "\n",
        "# Create an instance of the PaintBrush class\n",
        "brush1 = PaintBrush(\"medium\", \"red\", \"Winsor & Newton\", \"round\")\n",
        "\n",
        "# Describe the paint brush\n",
        "print(brush1.describe())\n",
        "\n",
        "# Simulate painting with the brush\n",
        "brush1.paint()\n",
        "\n"
      ],
      "metadata": {
        "id": "jMo7hRI4tQhU",
        "colab": {
          "base_uri": "https://localhost:8080/"
        },
        "outputId": "967ef8f7-6945-4a95-fbfd-f0b2e4defe2d"
      },
      "execution_count": null,
      "outputs": [
        {
          "output_type": "stream",
          "name": "stdout",
          "text": [
            "Paint Brush Details:\n",
            "Size: medium\n",
            "Color: red\n",
            "Brand: Winsor & Newton\n",
            "Type: round\n",
            "Using the medium red paintbrush to paint.\n"
          ]
        }
      ]
    },
    {
      "cell_type": "markdown",
      "source": [
        "👉 **Instructions:**\n",
        "\n",
        "1. Start by defining the class using the keyword class, followed by the name of the class (in this case, \"PaintBrush\").\n",
        "\n",
        "2. Within the class, define the __init__ method to initialize the properties of the paint brush. The method should take four parameters: size, color, brand, and brush_type. Use the self keyword to refer to the instance of the class.\n",
        "\n",
        "3. Inside the __init__ method, assign the values of the parameters to instance variables using the self keyword.\n",
        "\n",
        "4. Define a method named paint that prints out a message indicating the brush size, color, brand, and type.\n",
        "\n",
        "5. Create an instance of the PaintBrush class by calling the class with the required parameters.\n",
        "\n",
        "6. Call the paint() method on the instance to simulate painting with the brush."
      ],
      "metadata": {
        "id": "UJSmIs1DtknS"
      }
    },
    {
      "cell_type": "markdown",
      "source": [
        "## **Bank Account Management System** 💻🏦\n",
        "\n",
        "Create a Bank Account Management System using Object-Oriented Programming (OOPs) in Python. The system should allow users to create and manage bank accounts, deposit and withdraw funds, and view account details."
      ],
      "metadata": {
        "id": "ARKS5oEitsVt"
      }
    },
    {
      "cell_type": "code",
      "source": [
        "# Define a BankAccount class\n",
        "class BankAccount:\n",
        "    def __init__(self, name, account_number, balance):\n",
        "        self.name = name\n",
        "        self.account_number = account_number\n",
        "        self.balance = balance\n",
        "\n",
        "    def deposit(self, amount):\n",
        "        if amount > 0:\n",
        "            self.balance += amount\n",
        "            print(f\"Deposited ${amount}. New balance: ${self.balance}\")\n",
        "        else:\n",
        "            print(\"Invalid deposit amount.\")\n",
        "\n",
        "    def withdraw(self, amount):\n",
        "        if amount > 0:\n",
        "            if amount <= self.balance:\n",
        "                self.balance -= amount\n",
        "                print(f\"Withdrew ${amount}. New balance: ${self.balance}\")\n",
        "            else:\n",
        "                print(\"Insufficient funds.\")\n",
        "        else:\n",
        "            print(\"Invalid withdrawal amount.\")\n",
        "\n",
        "    def account_details(self):\n",
        "        print(f\"Account Holder: {self.name}\")\n",
        "        print(f\"Account Number: {self.account_number}\")\n",
        "        print(f\"Balance: ${self.balance}\")\n",
        "\n",
        "# Create a new instance of the BankAccount class\n",
        "account1 = BankAccount(\"John Doe\", \"1234567890\", 1000)\n",
        "\n",
        "# Deposit $500 into the account\n",
        "account1.deposit(500)\n",
        "\n",
        "# Withdraw $200 from the account\n",
        "account1.withdraw(200)\n",
        "\n",
        "# Display account details\n",
        "account1.account_details()\n"
      ],
      "metadata": {
        "id": "J3WL7qYjvIml",
        "colab": {
          "base_uri": "https://localhost:8080/"
        },
        "outputId": "1206e969-973b-4ab4-d72b-b7140e7a1667"
      },
      "execution_count": null,
      "outputs": [
        {
          "output_type": "stream",
          "name": "stdout",
          "text": [
            "Deposited $500. New balance: $1500\n",
            "Withdrew $200. New balance: $1300\n",
            "Account Holder: John Doe\n",
            "Account Number: 1234567890\n",
            "Balance: $1300\n"
          ]
        }
      ]
    },
    {
      "cell_type": "code",
      "source": [
        "# Test Case\n"
      ],
      "metadata": {
        "id": "mihs9I58w0AB"
      },
      "execution_count": null,
      "outputs": []
    },
    {
      "cell_type": "markdown",
      "source": [
        "👉 **Instructions:**\n",
        "\n",
        "1. Define a BankAccount class with an init() method that takes the name, account_number, and balance as parameters and initializes the instance variables.\n",
        "\n",
        "2. Define the deposit() method that takes the amount to be deposited as a parameter and adds it to the balance. Also, print a message with the new balance.\n",
        "\n",
        "3. Define the withdraw() method that takes the amount to be withdrawn as a parameter and checks if the account has sufficient balance. If yes, deduct the amount from the balance and print a message with the new balance. If not, print a message with the current balance.\n",
        "\n",
        "4. Define the account_details() method that prints the name, account number, and balance of the account.\n",
        "\n",
        "5. Create a new instance of the BankAccount class with some initial balance.\n",
        "\n",
        "6. Test the deposit(), withdraw(), and account_details() methods of the BankAccount class by calling them on the instance created in step 5 with some test values."
      ],
      "metadata": {
        "id": "O2GDG6TUvaBF"
      }
    },
    {
      "cell_type": "markdown",
      "source": [
        "# **Exception Handling**"
      ],
      "metadata": {
        "id": "Ym0esuHoIriH"
      }
    },
    {
      "cell_type": "markdown",
      "source": [
        "## **Sum of first n Natural Numbers**\n",
        "\n",
        "💻 Suppose you are working on a project that requires you to write a Python program that calculates the sum of the first n natural numbers. You wrote a program to solve the problem, but the code contains several errors that prevent it from executing properly. ❌\n",
        "\n",
        "Your task is to identify and rectify the errors in the code and write the correct program. 🛠️"
      ],
      "metadata": {
        "id": "7X3Rz0V8HgfP"
      }
    },
    {
      "cell_type": "markdown",
      "source": [
        "![Sum-of-natural-numbers.png](data:image/png;base64,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)"
      ],
      "metadata": {
        "id": "OoDyvIuONaE4"
      }
    },
    {
      "cell_type": "code",
      "execution_count": null,
      "metadata": {
        "id": "VWJZF0ssHJMS",
        "colab": {
          "base_uri": "https://localhost:8080/",
          "height": 140
        },
        "outputId": "5bab4de2-97cd-46ce-9d3d-1cc6a89cfff2"
      },
      "outputs": [
        {
          "output_type": "error",
          "ename": "SyntaxError",
          "evalue": "ignored",
          "traceback": [
            "\u001b[0;36m  File \u001b[0;32m\"<ipython-input-21-6c0e5d7ae6d8>\"\u001b[0;36m, line \u001b[0;32m6\u001b[0m\n\u001b[0;31m    print(\"The sum of the first\", n, \"natural numbers is\", sum\u001b[0m\n\u001b[0m                                                              ^\u001b[0m\n\u001b[0;31mSyntaxError\u001b[0m\u001b[0;31m:\u001b[0m incomplete input\n"
          ]
        }
      ],
      "source": [
        "# Code with errors\n",
        "n = input(\"Enter a number: \")\n",
        "sum = 0\n",
        "for i in range(0, n+1):\n",
        "  sum = sum + i\n",
        "print(\"The sum of the first\", n, \"natural numbers is\", sum"
      ]
    },
    {
      "cell_type": "code",
      "source": [
        "# Write your code here\n",
        "# Input the value of n\n",
        "n = int(input(\"Enter a positive integer n: \"))\n",
        "\n",
        "# Initialize the sum to 0\n",
        "total = 0\n",
        "\n",
        "# Calculate the sum of the first n natural numbers\n",
        "for i in range(1, n + 1):  # Add 1 to include the last number\n",
        "    total += i\n",
        "\n",
        "# Display the result\n",
        "print(f\"The sum of the first {n} natural numbers is {total}.\")\n",
        "\n"
      ],
      "metadata": {
        "id": "Gx1ZJKgWLDCf",
        "colab": {
          "base_uri": "https://localhost:8080/"
        },
        "outputId": "8d5bdf65-4f21-4603-c7ff-0bda17db3591"
      },
      "execution_count": null,
      "outputs": [
        {
          "output_type": "stream",
          "name": "stdout",
          "text": [
            "Enter a positive integer n: 5\n",
            "The sum of the first 5 natural numbers is 15.\n"
          ]
        }
      ]
    },
    {
      "cell_type": "markdown",
      "source": [
        "👉 **Instructions:**\n",
        "\n",
        "1. The input function returns a string, so we need to convert it to an integer using the int() function. 🔢\n",
        "2. In the range() function, we need to provide an integer value for the upper limit. So, we need to convert the input to an integer as well. 🔝\n",
        "3. We need to add 1 to the upper limit in the range() function to include the last number. ➕"
      ],
      "metadata": {
        "id": "MQ1LuqbFIMGp"
      }
    },
    {
      "cell_type": "markdown",
      "source": [
        "## **Average Temperature** 🌡️🌡️\n",
        "\n",
        "You have been given a task to develop a program that calculates the average temperature 🌡️ of a city 🏢 for a given week. You have written a program to solve the problem, but there seems to be some logical errors that are causing the program to output incorrect results. You are provided with two sets of weekly temperatures and need to find the average of each individual week.\n",
        "\n",
        "Your task is to identify and rectify the logical errors in the code and write the correct program."
      ],
      "metadata": {
        "id": "yLGJGYS6I3Wh"
      }
    },
    {
      "cell_type": "code",
      "source": [
        "# Temperature data for the week 1 and week 2\n",
        "temperatures_w1 = [32, 34, 31, 30, 29, 28, 33]\n",
        "temperatures_w2 = [31, 34, 35, 28, 29]\n",
        "\n",
        "# Calculate the sum of all temperatures\n",
        "for temperature in temperatures_w1:\n",
        "  sum = sum + temperature\n",
        "\n",
        "# Calculate the average temperature\n",
        "average = sum / 7\n",
        "\n",
        "# Output the result\n",
        "print(\"The average temperature of the week is\", sum, \"degrees Celsius.\")"
      ],
      "metadata": {
        "id": "g0bm4yDDI2yW"
      },
      "execution_count": null,
      "outputs": []
    },
    {
      "cell_type": "code",
      "source": [
        "# Write your code here\n"
      ],
      "metadata": {
        "id": "J5JuV9WqLFX_"
      },
      "execution_count": null,
      "outputs": []
    },
    {
      "cell_type": "markdown",
      "source": [
        "👉 **Instructions:**\n",
        "\n",
        "1. The given temperature list is in celsius and we need to find the average of each individual week.\n",
        "2. While iterating through each temperature we need to initialize a variable to start from zero otherwise it can start from any garbage value.\n",
        "3. Next, find the average by dividing the sum of the temperatures by the length of the temperatures list.\n",
        "4. Print the average temperature of the each week."
      ],
      "metadata": {
        "id": "A101OEJQJ_Tq"
      }
    },
    {
      "cell_type": "markdown",
      "source": [
        "## **Handle that Error!** ❌❌\n",
        "\n",
        "You are developing a Python program that requires user input. You want to make sure that your program doesn't crash due to invalid user input or unexpected errors 🛑. You have heard about exception handling in Python and want to implement it in your program to handle errors gracefully.\n",
        "\n",
        "Your task is to implement exception handling in your program to handle invalid user input and unexpected errors."
      ],
      "metadata": {
        "id": "r04OSlnDLKj3"
      }
    },
    {
      "cell_type": "code",
      "source": [
        "# Code without exception handling\n",
        "num1 = int(input(\"Enter the first number: \"))\n",
        "num2 = int(input(\"Enter the second number: \"))\n",
        "\n",
        "result = num1 / num2\n",
        "\n",
        "print(\"The result is: \", result)"
      ],
      "metadata": {
        "id": "1UPr7gn2KIm_"
      },
      "execution_count": null,
      "outputs": []
    },
    {
      "cell_type": "code",
      "source": [
        "# Write your code here\n",
        "# Temperature data for the week 1 and week 2\n",
        "temperatures_w1 = [32, 34, 31, 30, 29, 28, 33]\n",
        "temperatures_w2 = [31, 34, 35, 28, 29]\n",
        "\n",
        "# Calculate the average temperature for week 1\n",
        "sum_w1 = 0  # Initialize sum_w1 to 0\n",
        "for temperature in temperatures_w1:\n",
        "    sum_w1 += temperature\n",
        "\n",
        "average_w1 = sum_w1 / len(temperatures_w1)  # Calculate the average\n",
        "\n",
        "# Calculate the average temperature for week 2\n",
        "sum_w2 = 0  # Initialize sum_w2 to 0\n",
        "for temperature in temperatures_w2:\n",
        "    sum_w2 += temperature\n",
        "\n",
        "average_w2 = sum_w2 / len(temperatures_w2)  # Calculate the average\n",
        "\n",
        "# Print the average temperatures\n",
        "print(\"Average temperature for Week 1:\", average_w1)\n",
        "print(\"Average temperature for Week 2:\", average_w2)\n",
        "\n"
      ],
      "metadata": {
        "id": "9X3-V505Lqor",
        "colab": {
          "base_uri": "https://localhost:8080/"
        },
        "outputId": "3150f480-86a6-449c-b9c1-989b2c2d57e0"
      },
      "execution_count": null,
      "outputs": [
        {
          "output_type": "stream",
          "name": "stdout",
          "text": [
            "Average temperature for Week 1: 31.0\n",
            "Average temperature for Week 2: 31.4\n"
          ]
        }
      ]
    },
    {
      "cell_type": "markdown",
      "source": [
        "👉 **Instructions:**\n",
        "\n",
        "1. Add a try-except block to handle any errors that may occur during runtime.\n",
        "2. In the try block, add the code that may raise an exception.\n",
        "3. In the except block, add the code to handle the exception."
      ],
      "metadata": {
        "id": "Eq2O0ac-Lsxp"
      }
    },
    {
      "cell_type": "markdown",
      "source": [
        "## **What's the time?** ⌚⌚\n",
        "\n",
        "Create a class Time which takes two inputs: hours and minutes to instantiate.\n",
        "\n",
        "* Construct a method DisplayTime() which displays the time in AM/PM formats.\n",
        "\n",
        " * For example if the input is 14 hours and 45 mins, then this method will print \"The time is 2:45 PM\".\n",
        " * If the inputted hours exceeds 23 then print the message \"The input hours should be less than 24\" and if the inputted minutes exceeds 59 then print the message \"The input minutes should be less than 60.\"\n",
        " * Also if the input is 12 hours 30 minutes, then the displayed time would be 12:30 PM\n",
        "\n",
        "* Construct a method DisplayRatio() which should display the ratio of minutes to hours.\n",
        " * For example, (8 hours and 16 mins) should display 2. Use try, except block to account for ZeroDivisionError."
      ],
      "metadata": {
        "id": "a5yhjDXAMTv6"
      }
    },
    {
      "cell_type": "code",
      "source": [
        "# Write your code here\n",
        "\n",
        "class Time:\n",
        "    def __init__(self, hours, minutes):\n",
        "        self.hours = hours\n",
        "        self.minutes = minutes\n",
        "\n",
        "    def DisplayTime(self):\n",
        "        if self.hours < 0 or self.hours >= 24:\n",
        "            print(\"The input hours should be between 0 and 23\")\n",
        "        elif self.minutes < 0 or self.minutes >= 60:\n",
        "            print(\"The input minutes should be between 0 and 59\")\n",
        "        else:\n",
        "            period = \"AM\" if self.hours < 12 else \"PM\"\n",
        "            hours_display = self.hours if self.hours <= 12 else self.hours - 12\n",
        "            print(f\"The time is {hours_display}:{self.minutes:02d} {period}\")\n",
        "\n",
        "    def DisplayRatio(self):\n",
        "        try:\n",
        "            ratio = self.minutes / self.hours\n",
        "            print(f\"The ratio of minutes to hours is {ratio:.2f}\")\n",
        "        except ZeroDivisionError:\n",
        "            print(\"Cannot calculate ratio: hours cannot be zero.\")\n",
        "\n",
        "\n",
        "\n"
      ],
      "metadata": {
        "id": "_xHOnmYILyor",
        "colab": {
          "base_uri": "https://localhost:8080/"
        },
        "outputId": "90082d6b-2fed-4a70-d582-64778439f230"
      },
      "execution_count": null,
      "outputs": [
        {
          "output_type": "stream",
          "name": "stdout",
          "text": [
            "\n",
            "Input: 23 hours and 45 minutes\n",
            "The time is 11:45 PM\n",
            "The ratio of minutes to hours is 1.96\n",
            "\n",
            "Input: 34 hours and 50 minutes\n",
            "The input hours should be between 0 and 23\n",
            "The ratio of minutes to hours is 1.47\n",
            "\n",
            "Input: 12 hours and 34 minutes\n",
            "The time is 12:34 PM\n",
            "The ratio of minutes to hours is 2.83\n",
            "\n",
            "Input: 14 hours and 67 minutes\n",
            "The input minutes should be between 0 and 59\n",
            "The ratio of minutes to hours is 4.79\n",
            "\n",
            "Input: 19 hours and 20 minutes\n",
            "The time is 7:20 PM\n",
            "The ratio of minutes to hours is 1.05\n",
            "\n",
            "Input: 2 hours and 15 minutes\n",
            "The time is 2:15 AM\n",
            "The ratio of minutes to hours is 7.50\n",
            "\n",
            "Input: 0 hours and 10 minutes\n",
            "The time is 0:10 AM\n",
            "Cannot calculate ratio: hours cannot be zero.\n"
          ]
        }
      ]
    },
    {
      "cell_type": "markdown",
      "source": [
        "**🧪 Test Code:**"
      ],
      "metadata": {
        "id": "MS5Cs0nmM-0z"
      }
    },
    {
      "cell_type": "code",
      "source": [
        "# Check for few sample inputs of hours and mins\n",
        "# Test cases\n",
        "hour_min_list = [(23, 45), (34, 50), (12, 34), (14, 67), (19, 20), (2, 15), (0, 10)]\n",
        "\n",
        "for hours, minutes in hour_min_list:\n",
        "    print(f\"\\nInput: {hours} hours and {minutes} minutes\")\n",
        "    time_instance = Time(hours, minutes)\n",
        "    time_instance.DisplayTime()\n",
        "    time_instance.DisplayRatio()\n"
      ],
      "metadata": {
        "id": "BuTerXSIMsfR",
        "colab": {
          "base_uri": "https://localhost:8080/"
        },
        "outputId": "1367d9e9-3a72-40e7-bd22-ac954d4b104b"
      },
      "execution_count": null,
      "outputs": [
        {
          "output_type": "stream",
          "name": "stdout",
          "text": [
            "\n",
            "Input: 23 hours and 45 minutes\n",
            "The time is 11:45 PM\n",
            "The ratio of minutes to hours is 1.96\n",
            "\n",
            "Input: 34 hours and 50 minutes\n",
            "The input hours should be between 0 and 23\n",
            "The ratio of minutes to hours is 1.47\n",
            "\n",
            "Input: 12 hours and 34 minutes\n",
            "The time is 12:34 PM\n",
            "The ratio of minutes to hours is 2.83\n",
            "\n",
            "Input: 14 hours and 67 minutes\n",
            "The input minutes should be between 0 and 59\n",
            "The ratio of minutes to hours is 4.79\n",
            "\n",
            "Input: 19 hours and 20 minutes\n",
            "The time is 7:20 PM\n",
            "The ratio of minutes to hours is 1.05\n",
            "\n",
            "Input: 2 hours and 15 minutes\n",
            "The time is 2:15 AM\n",
            "The ratio of minutes to hours is 7.50\n",
            "\n",
            "Input: 0 hours and 10 minutes\n",
            "The time is 0:10 AM\n",
            "Cannot calculate ratio: hours cannot be zero.\n"
          ]
        }
      ]
    },
    {
      "cell_type": "markdown",
      "source": [
        "👉 **Instructions:**\n",
        "\n",
        "1. Create a class Time which takes two inputs: hours and minutes.\n",
        "2. Instantiate the values using a function.\n",
        "3. Then, define two functions for displaying the time in the format explained in the question and for displaying the ratio of hours to minutes.\n",
        "4. Use try-except block for displaying the ratio to account for Zero Division Error."
      ],
      "metadata": {
        "id": "3xJSAlfHNA8z"
      }
    },
    {
      "cell_type": "code",
      "source": [],
      "metadata": {
        "id": "fCakAkO7HkwF"
      },
      "execution_count": null,
      "outputs": []
    }
  ]
}